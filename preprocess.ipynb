{
 "cells": [
  {
   "cell_type": "code",
   "execution_count": 3,
   "metadata": {
    "ExecuteTime": {
     "end_time": "2019-04-24T11:28:12.943893Z",
     "start_time": "2019-04-24T11:28:12.536159Z"
    }
   },
   "outputs": [],
   "source": [
    "import re\n",
    "from tqdm import tqdm_notebook as tqdm\n",
    "import codecs\n",
    "from collections import defaultdict\n",
    "import operator\n",
    "import spacy\n",
    "import _pickle as pickle\n",
    "import torch\n",
    "import numpy as np"
   ]
  },
  {
   "cell_type": "markdown",
   "metadata": {},
   "source": [
    "## 训练集、测试集、验证集目录"
   ]
  },
  {
   "cell_type": "code",
   "execution_count": 24,
   "metadata": {
    "ExecuteTime": {
     "end_time": "2019-04-24T11:40:04.584092Z",
     "start_time": "2019-04-24T11:40:04.579606Z"
    }
   },
   "outputs": [],
   "source": [
    "path_src = [\"test.txt.src\", \"train.txt.src\", \"val.txt.src\"]\n",
    "path_tgt = [\n",
    "    \"test.txt.tgt.tagged\", \"train.txt.tgt.tagged\", \"val.txt.tgt.tagged\"\n",
    "]"
   ]
  },
  {
   "cell_type": "markdown",
   "metadata": {},
   "source": [
    "## 去标点噪音,转小写"
   ]
  },
  {
   "cell_type": "code",
   "execution_count": 12,
   "metadata": {
    "ExecuteTime": {
     "end_time": "2019-04-20T01:57:37.305732Z",
     "start_time": "2019-04-20T01:57:37.300129Z"
    }
   },
   "outputs": [],
   "source": [
    "def depunc(path):\n",
    "    fr = codecs.open(path, encoding='utf-8')\n",
    "    fw = codecs.open(path + '.clean', 'w', encoding='utf-8')\n",
    "    for line in tqdm(fr):\n",
    "        if line != \"\":\n",
    "            line = line.lower()\n",
    "            line = re.sub(r\"--|-lrb-.*?-rrb- |'' |\\\"|`` |:|<t> |</t> |</t>\",\n",
    "                          \"\", line)\n",
    "            line = re.sub(r\"\\s\\.\\s\", r\" . \", line)\n",
    "            line = re.sub(r\"\\s\\?\\s\", r\" ? \", line)\n",
    "            line = re.sub(r\"\\s\\!\\s\", r\" ! \", line)\n",
    "            fw.write(line)\n",
    "            if ord(line[-1]) != 10:\n",
    "                fw.write(\"\\n\")\n",
    "    fr.close()\n",
    "    fw.close()"
   ]
  },
  {
   "cell_type": "markdown",
   "metadata": {},
   "source": [
    "## 获得所有训练语料，用于训练词向量"
   ]
  },
  {
   "cell_type": "code",
   "execution_count": 13,
   "metadata": {
    "ExecuteTime": {
     "end_time": "2019-04-20T01:57:38.169664Z",
     "start_time": "2019-04-20T01:57:38.164255Z"
    }
   },
   "outputs": [],
   "source": [
    "def bow(path):\n",
    "    fr = codecs.open(path, encoding='utf-8')\n",
    "    fw = codecs.open('./data/corpus_total.txt', 'a', encoding='utf-8')\n",
    "    for line in tqdm(fr):\n",
    "        if line != \"\":\n",
    "            fw.write(line)\n",
    "    fr.close()\n",
    "    fw.close()"
   ]
  },
  {
   "cell_type": "markdown",
   "metadata": {},
   "source": [
    "## 调用depunc清洗数据"
   ]
  },
  {
   "cell_type": "code",
   "execution_count": 14,
   "metadata": {
    "ExecuteTime": {
     "end_time": "2019-04-20T01:57:38.889365Z",
     "start_time": "2019-04-20T01:57:38.884174Z"
    }
   },
   "outputs": [],
   "source": [
    "def prepare_for_model():\n",
    "    for src in path_src:\n",
    "        depunc(\"./data/\" + src)\n",
    "    for tgt in path_tgt:\n",
    "        depunc(\"./data/\" + tgt)"
   ]
  },
  {
   "cell_type": "code",
   "execution_count": 15,
   "metadata": {
    "ExecuteTime": {
     "end_time": "2019-04-20T01:58:34.442325Z",
     "start_time": "2019-04-20T01:57:40.014927Z"
    }
   },
   "outputs": [
    {
     "data": {
      "application/vnd.jupyter.widget-view+json": {
       "model_id": "49c70e7bbeef44fd9134bdd9a776bb52",
       "version_major": 2,
       "version_minor": 0
      },
      "text/plain": [
       "HBox(children=(IntProgress(value=1, bar_style='info', max=1), HTML(value='')))"
      ]
     },
     "metadata": {},
     "output_type": "display_data"
    },
    {
     "name": "stdout",
     "output_type": "stream",
     "text": [
      "\n"
     ]
    },
    {
     "data": {
      "application/vnd.jupyter.widget-view+json": {
       "model_id": "4b92583ec60b48f0827048663e5f8ccf",
       "version_major": 2,
       "version_minor": 0
      },
      "text/plain": [
       "HBox(children=(IntProgress(value=1, bar_style='info', max=1), HTML(value='')))"
      ]
     },
     "metadata": {},
     "output_type": "display_data"
    },
    {
     "name": "stdout",
     "output_type": "stream",
     "text": [
      "\n"
     ]
    },
    {
     "data": {
      "application/vnd.jupyter.widget-view+json": {
       "model_id": "554a793673a4434fab541ee8420d343f",
       "version_major": 2,
       "version_minor": 0
      },
      "text/plain": [
       "HBox(children=(IntProgress(value=1, bar_style='info', max=1), HTML(value='')))"
      ]
     },
     "metadata": {},
     "output_type": "display_data"
    },
    {
     "name": "stdout",
     "output_type": "stream",
     "text": [
      "\n"
     ]
    },
    {
     "data": {
      "application/vnd.jupyter.widget-view+json": {
       "model_id": "718e57ae989c428487c6fd049628353b",
       "version_major": 2,
       "version_minor": 0
      },
      "text/plain": [
       "HBox(children=(IntProgress(value=1, bar_style='info', max=1), HTML(value='')))"
      ]
     },
     "metadata": {},
     "output_type": "display_data"
    },
    {
     "name": "stdout",
     "output_type": "stream",
     "text": [
      "\n"
     ]
    },
    {
     "data": {
      "application/vnd.jupyter.widget-view+json": {
       "model_id": "9c71c9c7dc8b42ba97ea44ffd49ea728",
       "version_major": 2,
       "version_minor": 0
      },
      "text/plain": [
       "HBox(children=(IntProgress(value=1, bar_style='info', max=1), HTML(value='')))"
      ]
     },
     "metadata": {},
     "output_type": "display_data"
    },
    {
     "name": "stdout",
     "output_type": "stream",
     "text": [
      "\n"
     ]
    },
    {
     "data": {
      "application/vnd.jupyter.widget-view+json": {
       "model_id": "3fbe900023b34a9aa46511a4aa45360c",
       "version_major": 2,
       "version_minor": 0
      },
      "text/plain": [
       "HBox(children=(IntProgress(value=1, bar_style='info', max=1), HTML(value='')))"
      ]
     },
     "metadata": {},
     "output_type": "display_data"
    },
    {
     "name": "stdout",
     "output_type": "stream",
     "text": [
      "\n"
     ]
    }
   ],
   "source": [
    "prepare_for_model()"
   ]
  },
  {
   "cell_type": "markdown",
   "metadata": {},
   "source": [
    "## 为fasttext训练词向量准备语料"
   ]
  },
  {
   "cell_type": "code",
   "execution_count": 16,
   "metadata": {
    "ExecuteTime": {
     "end_time": "2019-04-20T01:59:17.485896Z",
     "start_time": "2019-04-20T01:59:17.481814Z"
    }
   },
   "outputs": [],
   "source": [
    "def prepare_for_fasttext():\n",
    "    bow(\"./data/train.txt.src.clean\")\n",
    "    bow(\"./data/train.txt.tgt.tagged.clean\")"
   ]
  },
  {
   "cell_type": "code",
   "execution_count": 17,
   "metadata": {
    "ExecuteTime": {
     "end_time": "2019-04-20T01:59:26.556980Z",
     "start_time": "2019-04-20T01:59:18.224695Z"
    }
   },
   "outputs": [
    {
     "data": {
      "application/vnd.jupyter.widget-view+json": {
       "model_id": "8be60482063a437b9b3db2ae64f192a1",
       "version_major": 2,
       "version_minor": 0
      },
      "text/plain": [
       "HBox(children=(IntProgress(value=1, bar_style='info', max=1), HTML(value='')))"
      ]
     },
     "metadata": {},
     "output_type": "display_data"
    },
    {
     "name": "stdout",
     "output_type": "stream",
     "text": [
      "\n"
     ]
    },
    {
     "data": {
      "application/vnd.jupyter.widget-view+json": {
       "model_id": "34df33dd3ed942e08fd11c15d25eeebc",
       "version_major": 2,
       "version_minor": 0
      },
      "text/plain": [
       "HBox(children=(IntProgress(value=1, bar_style='info', max=1), HTML(value='')))"
      ]
     },
     "metadata": {},
     "output_type": "display_data"
    },
    {
     "name": "stdout",
     "output_type": "stream",
     "text": [
      "\n"
     ]
    }
   ],
   "source": [
    "prepare_for_fasttext()"
   ]
  },
  {
   "cell_type": "markdown",
   "metadata": {},
   "source": [
    "## 建立词典"
   ]
  },
  {
   "cell_type": "code",
   "execution_count": 1,
   "metadata": {
    "ExecuteTime": {
     "end_time": "2019-04-24T11:28:07.437184Z",
     "start_time": "2019-04-24T11:28:07.434849Z"
    }
   },
   "outputs": [],
   "source": [
    "def build_dic():\n",
    "    dic = defaultdict(int)\n",
    "    with open(\"./data/corpus_total.txt\", \"r\") as f:\n",
    "        for line in tqdm(f):\n",
    "            for word in line.split():\n",
    "                dic[word] += 1\n",
    "    return dic"
   ]
  },
  {
   "cell_type": "code",
   "execution_count": 4,
   "metadata": {
    "ExecuteTime": {
     "end_time": "2019-04-24T11:28:49.829423Z",
     "start_time": "2019-04-24T11:28:17.870775Z"
    }
   },
   "outputs": [
    {
     "data": {
      "application/vnd.jupyter.widget-view+json": {
       "model_id": "aa69520e55364bc2a54ad4529616172b",
       "version_major": 2,
       "version_minor": 0
      },
      "text/plain": [
       "HBox(children=(IntProgress(value=1, bar_style='info', max=1), HTML(value='')))"
      ]
     },
     "metadata": {},
     "output_type": "display_data"
    },
    {
     "name": "stdout",
     "output_type": "stream",
     "text": [
      "\n"
     ]
    }
   ],
   "source": [
    "dictionary = build_dic()"
   ]
  },
  {
   "cell_type": "code",
   "execution_count": 5,
   "metadata": {
    "ExecuteTime": {
     "end_time": "2019-04-24T11:31:53.480037Z",
     "start_time": "2019-04-24T11:31:53.477705Z"
    }
   },
   "outputs": [
    {
     "name": "stdout",
     "output_type": "stream",
     "text": [
      "718591\n"
     ]
    }
   ],
   "source": [
    "print(len(dictionary))"
   ]
  },
  {
   "cell_type": "code",
   "execution_count": 6,
   "metadata": {
    "ExecuteTime": {
     "end_time": "2019-04-24T11:31:55.109652Z",
     "start_time": "2019-04-24T11:31:54.997845Z"
    }
   },
   "outputs": [],
   "source": [
    "sorted_dic = sorted(\n",
    "    dictionary.items(), key=operator.itemgetter(1), reverse=True)"
   ]
  },
  {
   "cell_type": "markdown",
   "metadata": {},
   "source": [
    "## 建立映射表并保存\n",
    "- 原文词典大小为40000\n",
    "- 文摘词典大小为10000\n",
    "- 0:PAD\n",
    "- 1:EOS\n",
    "- 2:UNK\n",
    "- 3:STR\n",
    "- source_input : W W W W UNK W W EOS PAD PAD PAD\n",
    "- target_input : STR w w w UNK w EOS PAD"
   ]
  },
  {
   "cell_type": "code",
   "execution_count": 17,
   "metadata": {
    "ExecuteTime": {
     "end_time": "2019-04-24T11:38:45.629795Z",
     "start_time": "2019-04-24T11:38:45.628147Z"
    }
   },
   "outputs": [],
   "source": [
    "dict_size_src = 40000\n",
    "dict_size_tgt = 10000"
   ]
  },
  {
   "cell_type": "code",
   "execution_count": 18,
   "metadata": {
    "ExecuteTime": {
     "end_time": "2019-04-24T11:38:45.970310Z",
     "start_time": "2019-04-24T11:38:45.920946Z"
    }
   },
   "outputs": [],
   "source": [
    "count = 4\n",
    "word2id_src = dict()\n",
    "id2word_src = dict()\n",
    "word2id_src['PAD'] = 0\n",
    "word2id_src['EOS'] = 1\n",
    "word2id_src['UNK'] = 2\n",
    "word2id_src['SOS'] = 3\n",
    "id2word_src[0] = 'PAD'\n",
    "id2word_src[1] = 'EOS'\n",
    "id2word_src[2] = 'UNK'\n",
    "id2word_src[3] = 'SOS'\n",
    "for (k, v) in sorted_dic:\n",
    "    word2id_src[k] = count\n",
    "    id2word_src[count] = k\n",
    "    count += 1\n",
    "    if count == dict_size_src:\n",
    "        break\n",
    "pickle.dump(word2id_src, open(\"./data/word2id_src.dat\", \"wb\"), True)\n",
    "pickle.dump(id2word_src, open(\"./data/id2word_src.dat\", \"wb\"), True)"
   ]
  },
  {
   "cell_type": "code",
   "execution_count": 19,
   "metadata": {
    "ExecuteTime": {
     "end_time": "2019-04-24T11:38:46.595588Z",
     "start_time": "2019-04-24T11:38:46.586826Z"
    }
   },
   "outputs": [],
   "source": [
    "count = 4\n",
    "word2id_tgt = dict()\n",
    "id2word_tgt = dict()\n",
    "word2id_tgt['PAD'] = 0\n",
    "word2id_tgt['EOS'] = 1\n",
    "word2id_tgt['UNK'] = 2\n",
    "word2id_tgt['SOS'] = 3\n",
    "id2word_tgt[0] = 'PAD'\n",
    "id2word_tgt[1] = 'EOS'\n",
    "id2word_tgt[2] = 'UNK'\n",
    "id2word_tgt[3] = 'SOS'\n",
    "for (k, v) in sorted_dic:\n",
    "    word2id_tgt[k] = count\n",
    "    id2word_tgt[count] = k\n",
    "    count += 1\n",
    "    if count == dict_size_tgt:\n",
    "        break\n",
    "pickle.dump(word2id_tgt, open(\"./data/word2id_tgt.dat\", \"wb\"), True)\n",
    "pickle.dump(id2word_tgt, open(\"./data/id2word_tgt.dat\", \"wb\"), True)"
   ]
  },
  {
   "cell_type": "markdown",
   "metadata": {},
   "source": [
    "## 处理待训练语料\n",
    "- 原文限制长度为400以内，标题限制在55以内\n",
    "- 替换为one-hot下标\n",
    "- 补上PAD、EOS、UNK、STR"
   ]
  },
  {
   "cell_type": "code",
   "execution_count": 20,
   "metadata": {
    "ExecuteTime": {
     "end_time": "2019-04-24T11:38:48.122176Z",
     "start_time": "2019-04-24T11:38:48.120598Z"
    }
   },
   "outputs": [],
   "source": [
    "SRC_LENGTH = 500\n",
    "TGT_LENGTH = 70"
   ]
  },
  {
   "cell_type": "code",
   "execution_count": 21,
   "metadata": {
    "ExecuteTime": {
     "end_time": "2019-04-24T11:38:54.912058Z",
     "start_time": "2019-04-24T11:38:54.908009Z"
    }
   },
   "outputs": [],
   "source": [
    "def word_to_one_hot(path, output, word2id):\n",
    "    if \"tgt\" in path:\n",
    "        restrict_len = TGT_LENGTH\n",
    "    else:\n",
    "        restrict_len = SRC_LENGTH\n",
    "    one_hot_matrix = []\n",
    "    with open(path, \"r\") as f:\n",
    "        for line in tqdm(f):\n",
    "            one_hot_list = [\n",
    "                word2id[word] if word in word2id else 2\n",
    "                for word in line.split(' ')[:-1]\n",
    "            ]\n",
    "            if \"tgt\" in path and output:\n",
    "                one_hot_list.insert(0, 3)\n",
    "            one_hot_list = one_hot_list[:restrict_len - 1]\n",
    "            one_hot_list.append(1)\n",
    "            if len(one_hot_list) < restrict_len:\n",
    "                for _ in range(restrict_len - len(one_hot_list)):\n",
    "                    one_hot_list.append(0)\n",
    "            one_hot_matrix.append(one_hot_list)\n",
    "    return one_hot_matrix"
   ]
  },
  {
   "cell_type": "markdown",
   "metadata": {},
   "source": [
    "## tgt处理两次，\n",
    "- .onehot后缀是加了开始符号，整体右移一个单位。作为decoder输入\n",
    "- .gold后缀是原始语料，作为gold output计算损失"
   ]
  },
  {
   "cell_type": "code",
   "execution_count": 22,
   "metadata": {
    "ExecuteTime": {
     "end_time": "2019-04-24T11:39:57.759652Z",
     "start_time": "2019-04-24T11:39:57.755054Z"
    }
   },
   "outputs": [],
   "source": [
    "def one_hot_for_model():\n",
    "    for src in path_src:\n",
    "        matrix = word_to_one_hot(\n",
    "            \"./data/\" + src + \".clean\", output=False, word2id=word2id_src)\n",
    "        matrix = np.asarray(matrix)\n",
    "        pickle.dump(\n",
    "            torch.from_numpy(matrix), open(\"./data/\" + src + \".onehot\", \"wb\"),\n",
    "            True)\n",
    "    for tgt in path_tgt:\n",
    "        matrix = word_to_one_hot(\n",
    "            \"./data/\" + tgt + \".clean\", output=False, word2id=word2id_tgt)\n",
    "        matrix = np.asarray(matrix)\n",
    "\n",
    "        pickle.dump(\n",
    "            torch.from_numpy(matrix), open(\"./data/\" + tgt + \".gold\", \"wb\"),\n",
    "            True)\n",
    "    for tgt in path_tgt:\n",
    "        matrix = word_to_one_hot(\n",
    "            \"./data/\" + tgt + \".clean\", output=True, word2id=word2id_tgt)\n",
    "        matrix = np.asarray(matrix)\n",
    "\n",
    "        pickle.dump(\n",
    "            torch.from_numpy(matrix), open(\"./data/\" + tgt + \".onehot\", \"wb\"),\n",
    "            True)"
   ]
  },
  {
   "cell_type": "code",
   "execution_count": 25,
   "metadata": {
    "ExecuteTime": {
     "end_time": "2019-04-24T11:41:06.422735Z",
     "start_time": "2019-04-24T11:40:15.556765Z"
    }
   },
   "outputs": [
    {
     "data": {
      "application/vnd.jupyter.widget-view+json": {
       "model_id": "09f1b9e089c44d52b686d7d8ebd8f64f",
       "version_major": 2,
       "version_minor": 0
      },
      "text/plain": [
       "HBox(children=(IntProgress(value=1, bar_style='info', max=1), HTML(value='')))"
      ]
     },
     "metadata": {},
     "output_type": "display_data"
    },
    {
     "name": "stdout",
     "output_type": "stream",
     "text": [
      "\n"
     ]
    },
    {
     "data": {
      "application/vnd.jupyter.widget-view+json": {
       "model_id": "490a514c97ac48f0b71f065b08ced43e",
       "version_major": 2,
       "version_minor": 0
      },
      "text/plain": [
       "HBox(children=(IntProgress(value=1, bar_style='info', max=1), HTML(value='')))"
      ]
     },
     "metadata": {},
     "output_type": "display_data"
    },
    {
     "name": "stdout",
     "output_type": "stream",
     "text": [
      "\n"
     ]
    },
    {
     "data": {
      "application/vnd.jupyter.widget-view+json": {
       "model_id": "d832b57837444e3fa40842798c6cdcc5",
       "version_major": 2,
       "version_minor": 0
      },
      "text/plain": [
       "HBox(children=(IntProgress(value=1, bar_style='info', max=1), HTML(value='')))"
      ]
     },
     "metadata": {},
     "output_type": "display_data"
    },
    {
     "name": "stdout",
     "output_type": "stream",
     "text": [
      "\n"
     ]
    },
    {
     "data": {
      "application/vnd.jupyter.widget-view+json": {
       "model_id": "c0a9277d3c9f42a9a99ad0bcf3ab6143",
       "version_major": 2,
       "version_minor": 0
      },
      "text/plain": [
       "HBox(children=(IntProgress(value=1, bar_style='info', max=1), HTML(value='')))"
      ]
     },
     "metadata": {},
     "output_type": "display_data"
    },
    {
     "name": "stdout",
     "output_type": "stream",
     "text": [
      "\n"
     ]
    },
    {
     "data": {
      "application/vnd.jupyter.widget-view+json": {
       "model_id": "afebea96d0b24a0d811661275e97e16c",
       "version_major": 2,
       "version_minor": 0
      },
      "text/plain": [
       "HBox(children=(IntProgress(value=1, bar_style='info', max=1), HTML(value='')))"
      ]
     },
     "metadata": {},
     "output_type": "display_data"
    },
    {
     "name": "stdout",
     "output_type": "stream",
     "text": [
      "\n"
     ]
    },
    {
     "data": {
      "application/vnd.jupyter.widget-view+json": {
       "model_id": "f1c142f2777b4c66a82f2d46dc70fd9a",
       "version_major": 2,
       "version_minor": 0
      },
      "text/plain": [
       "HBox(children=(IntProgress(value=1, bar_style='info', max=1), HTML(value='')))"
      ]
     },
     "metadata": {},
     "output_type": "display_data"
    },
    {
     "name": "stdout",
     "output_type": "stream",
     "text": [
      "\n"
     ]
    },
    {
     "data": {
      "application/vnd.jupyter.widget-view+json": {
       "model_id": "b681ff3926444d74a280458bae0ef45e",
       "version_major": 2,
       "version_minor": 0
      },
      "text/plain": [
       "HBox(children=(IntProgress(value=1, bar_style='info', max=1), HTML(value='')))"
      ]
     },
     "metadata": {},
     "output_type": "display_data"
    },
    {
     "name": "stdout",
     "output_type": "stream",
     "text": [
      "\n"
     ]
    },
    {
     "data": {
      "application/vnd.jupyter.widget-view+json": {
       "model_id": "3ebdf4722b6d4408ac465b73503121eb",
       "version_major": 2,
       "version_minor": 0
      },
      "text/plain": [
       "HBox(children=(IntProgress(value=1, bar_style='info', max=1), HTML(value='')))"
      ]
     },
     "metadata": {},
     "output_type": "display_data"
    },
    {
     "name": "stdout",
     "output_type": "stream",
     "text": [
      "\n"
     ]
    },
    {
     "data": {
      "application/vnd.jupyter.widget-view+json": {
       "model_id": "ef5a1a5a9a2d44e4b6f056e511113e95",
       "version_major": 2,
       "version_minor": 0
      },
      "text/plain": [
       "HBox(children=(IntProgress(value=1, bar_style='info', max=1), HTML(value='')))"
      ]
     },
     "metadata": {},
     "output_type": "display_data"
    },
    {
     "name": "stdout",
     "output_type": "stream",
     "text": [
      "\n"
     ]
    }
   ],
   "source": [
    "one_hot_for_model()"
   ]
  },
  {
   "cell_type": "code",
   "execution_count": 26,
   "metadata": {
    "ExecuteTime": {
     "end_time": "2019-04-24T11:43:05.360761Z",
     "start_time": "2019-04-24T11:43:05.352488Z"
    }
   },
   "outputs": [
    {
     "name": "stdout",
     "output_type": "stream",
     "text": [
      "11490\n"
     ]
    }
   ],
   "source": [
    "matrix = pickle.load(open(\"./data/test.txt.tgt.tagged.onehot\", \"rb\"))\n",
    "print(len(matrix))"
   ]
  },
  {
   "cell_type": "code",
   "execution_count": 27,
   "metadata": {
    "ExecuteTime": {
     "end_time": "2019-04-24T11:43:06.297856Z",
     "start_time": "2019-04-24T11:43:06.295278Z"
    }
   },
   "outputs": [
    {
     "name": "stdout",
     "output_type": "stream",
     "text": [
      "tensor([   3,    2, 1781,   99,   72,  364,   84, 1824,   44,  167,   11,    5,\n",
      "         886,  413,  326,  387,  571,    4, 2273,   25,    2,    9, 1380,  563,\n",
      "          35,  122, 2240,    5,  153, 4100,   19,  374,    6,   38, 2212,   99,\n",
      "           4,    2,    2,   40, 3167,   24,    2,  591,  168,   10,   38, 2843,\n",
      "          10, 1638, 2918,    6, 2379,   99,    4,    1,    0,    0,    0,    0,\n",
      "           0,    0,    0,    0,    0,    0,    0,    0,    0,    0])\n"
     ]
    }
   ],
   "source": [
    "print(matrix[0])"
   ]
  },
  {
   "cell_type": "code",
   "execution_count": 28,
   "metadata": {
    "ExecuteTime": {
     "end_time": "2019-04-24T11:43:10.505780Z",
     "start_time": "2019-04-24T11:43:10.503332Z"
    }
   },
   "outputs": [
    {
     "name": "stdout",
     "output_type": "stream",
     "text": [
      "SOS UNK prosecutor says so far no videos were used in the crash investigation despite media reports . journalists at UNK and paris match are very confident the video clip is real , an editor says . UNK UNK had informed his UNK training school of an episode of severe depression , airline says . EOS PAD PAD PAD PAD PAD PAD PAD PAD PAD PAD PAD PAD PAD PAD\n"
     ]
    }
   ],
   "source": [
    "s = [id2word[id] for id in matrix[0].numpy()]\n",
    "print(' '.join(s))"
   ]
  },
  {
   "cell_type": "markdown",
   "metadata": {},
   "source": [
    "## 统计文摘的长度作为mask传给模型\n",
    "- 方便计算maskedNLLLoss\n",
    "- 是截断后文摘的长度"
   ]
  },
  {
   "cell_type": "code",
   "execution_count": 29,
   "metadata": {
    "ExecuteTime": {
     "end_time": "2019-04-24T11:43:15.689710Z",
     "start_time": "2019-04-24T11:43:15.687020Z"
    }
   },
   "outputs": [],
   "source": [
    "def make_len_mask(path):\n",
    "    len_mask = []\n",
    "    onehot = pickle.load(open(path, \"rb\"))\n",
    "    for sentence_onehot in tqdm(onehot):\n",
    "        count = 0\n",
    "        for i in sentence_onehot:\n",
    "            count += 1\n",
    "            if i == 1:\n",
    "                break\n",
    "        len_mask.append(count)\n",
    "    len_mask = torch.from_numpy(np.asarray(len_mask))\n",
    "    pickle.dump(len_mask, open(\"./data/\" + tgt + \".mask\", \"wb\"), True)"
   ]
  },
  {
   "cell_type": "code",
   "execution_count": 30,
   "metadata": {
    "ExecuteTime": {
     "end_time": "2019-04-24T11:43:48.596831Z",
     "start_time": "2019-04-24T11:43:16.583169Z"
    }
   },
   "outputs": [
    {
     "data": {
      "application/vnd.jupyter.widget-view+json": {
       "model_id": "e01233b8b13d43418f28fa9f43bd3068",
       "version_major": 2,
       "version_minor": 0
      },
      "text/plain": [
       "HBox(children=(IntProgress(value=0, max=11490), HTML(value='')))"
      ]
     },
     "metadata": {},
     "output_type": "display_data"
    },
    {
     "name": "stdout",
     "output_type": "stream",
     "text": [
      "\n"
     ]
    },
    {
     "data": {
      "application/vnd.jupyter.widget-view+json": {
       "model_id": "0661483f70b24c10ac437805a43f30ad",
       "version_major": 2,
       "version_minor": 0
      },
      "text/plain": [
       "HBox(children=(IntProgress(value=0, max=287227), HTML(value='')))"
      ]
     },
     "metadata": {},
     "output_type": "display_data"
    },
    {
     "name": "stdout",
     "output_type": "stream",
     "text": [
      "\n"
     ]
    },
    {
     "data": {
      "application/vnd.jupyter.widget-view+json": {
       "model_id": "48fc8c42bea24b9db8d95f80a34f8bf1",
       "version_major": 2,
       "version_minor": 0
      },
      "text/plain": [
       "HBox(children=(IntProgress(value=0, max=13368), HTML(value='')))"
      ]
     },
     "metadata": {},
     "output_type": "display_data"
    },
    {
     "name": "stdout",
     "output_type": "stream",
     "text": [
      "\n"
     ]
    }
   ],
   "source": [
    "for tgt in path_tgt:\n",
    "    make_len_mask(\"./data/\" + tgt + \".onehot\")"
   ]
  },
  {
   "cell_type": "code",
   "execution_count": 31,
   "metadata": {
    "ExecuteTime": {
     "end_time": "2019-04-24T11:44:55.144375Z",
     "start_time": "2019-04-24T11:44:55.137911Z"
    }
   },
   "outputs": [
    {
     "name": "stdout",
     "output_type": "stream",
     "text": [
      "tensor([56, 39, 63,  ..., 43, 70, 38])\n"
     ]
    }
   ],
   "source": [
    "mask_test = pickle.load(open(\"./data/test.txt.tgt.tagged.mask\", \"rb\"))\n",
    "print(mask_test)"
   ]
  },
  {
   "cell_type": "markdown",
   "metadata": {},
   "source": [
    "## 测试batch_loader数据"
   ]
  },
  {
   "cell_type": "code",
   "execution_count": 32,
   "metadata": {
    "ExecuteTime": {
     "end_time": "2019-04-24T11:45:01.012382Z",
     "start_time": "2019-04-24T11:45:01.003601Z"
    }
   },
   "outputs": [],
   "source": [
    "id2word = pickle.load(open(\"./data/id2word.dat\", \"rb\"))"
   ]
  },
  {
   "cell_type": "code",
   "execution_count": 33,
   "metadata": {
    "ExecuteTime": {
     "end_time": "2019-04-24T11:45:01.421568Z",
     "start_time": "2019-04-24T11:45:01.389939Z"
    }
   },
   "outputs": [],
   "source": [
    "sample_encoder_input = [\n",
    "    5, 105, 15, 154, 463, 3618, 2433, 1873, 813, 87, 411, 2810, 9, 9172, 5383,\n",
    "    67, 122, 46, 8, 3875, 116, 174, 5, 2, 473, 779, 142, 7, 665, 29, 5, 307,\n",
    "    14, 205, 774, 4, 2, 2, 6, 5441, 6, 7, 3158, 403, 24, 8, 2955, 97, 38, 267,\n",
    "    9, 5, 273, 3618, 9329, 15, 742, 1541, 774, 2, 2, 31, 115, 1345, 151, 31,\n",
    "    311, 897, 31, 30, 347, 8, 5321, 2810, 15, 2932, 4, 46, 33, 347, 5, 3618,\n",
    "    500, 1168, 6, 5, 627, 762, 8, 3443, 1873, 16, 813, 4928, 30, 1104, 2074, 9,\n",
    "    1639, 37, 13, 259, 45, 12, 160, 24, 575, 4133, 12, 160, 11, 8, 3028, 4,\n",
    "    1865, 132, 665, 2, 2, 2, 2, 6, 5441, 6, 7, 5, 67, 813, 12, 8, 1873, 11,\n",
    "    2287, 3618, 3028, 2, 2, 5, 105, 15, 154, 200, 1873, 9, 702, 4, 33, 347, 8,\n",
    "    3618, 98, 31, 440, 565, 113, 25, 3618, 9, 8, 575, 12, 160, 4, 2, 259, 2, 2,\n",
    "    2, 13, 386, 30, 3618, 831, 18, 36, 11, 31, 8685, 928, 9, 565, 4, 33, 347,\n",
    "    8, 3618, 500, 1168, 887, 9, 25, 9379, 4, 19, 5, 74, 11, 2, 15, 3028, 6,\n",
    "    559, 2510, 12, 172, 106, 813, 210, 226, 153, 3028, 4, 2, 6, 37, 15, 729,\n",
    "    3618, 831, 36, 11, 31, 142, 6, 347, 31, 3618, 38, 31, 440, 2, 2, 37, 7, 27,\n",
    "    8, 403, 18, 31, 2, 2, 113, 25, 3618, 9, 652, 1177, 12, 160, 4, 12, 267, 6,\n",
    "    2, 347, 8, 2932, 30, 733, 5605, 6, 2901, 6, 37, 132, 413, 11, 2955, 6, 112,\n",
    "    2214, 265, 4, 5605, 15, 270, 8024, 15, 1132, 299, 3596, 427, 31, 9, 160, 8,\n",
    "    60, 3618, 6, 48, 33, 347, 887, 9, 31, 440, 15, 2433, 4, 20, 78, 23, 53, 18,\n",
    "    134, 9, 113, 85, 3618, 9, 2401, 12, 359, 9, 64, 8024, 8, 93, 1358, 3618, 6,\n",
    "    28, 17, 7, 1141, 9, 39, 23, 6, 17, 5605, 63, 2214, 6, 48, 42, 417, 8, 493,\n",
    "    54, 5, 307, 14, 284, 1873, 19, 2, 19, 378, 133, 4, 5, 67, 2486, 11, 34,\n",
    "    2027, 1873, 264, 26, 5, 368, 11, 585, 602, 12, 4778, 46, 2, 2, 2192, 8,\n",
    "    3618, 19, 2756, 11, 31, 553, 6, 37, 50, 395, 347, 8, 3028, 4, 31, 3618, 7,\n",
    "    336, 3428, 606, 9, 2, 619, 226, 12, 6206, 6, 1\n",
    "]"
   ]
  },
  {
   "cell_type": "code",
   "execution_count": 34,
   "metadata": {
    "ExecuteTime": {
     "end_time": "2019-04-24T11:45:01.735342Z",
     "start_time": "2019-04-24T11:45:01.723789Z"
    }
   },
   "outputs": [],
   "source": [
    "sample_decoder_input = [\n",
    "    3, 5, 142, 14, 665, 2013, 665, 132, 29, 329, 2810, 9, 113, 3618, 9, 4928,\n",
    "    12, 359, 18, 8, 259, 45, 9, 347, 8, 3618, 4, 4135, 14, 274, 226, 7, 416,\n",
    "    12, 5, 307, 14, 205, 1873, 75, 5, 706, 11, 111, 122, 4, 3875, 5383, 2, 2,\n",
    "    6, 5441, 6, 174, 5, 411, 813, 12, 5, 1873, 500, 1168, 4, 2, 1, 0, 0, 0, 0,\n",
    "    0\n",
    "]"
   ]
  },
  {
   "cell_type": "code",
   "execution_count": 35,
   "metadata": {
    "ExecuteTime": {
     "end_time": "2019-04-24T11:45:01.917399Z",
     "start_time": "2019-04-24T11:45:01.907059Z"
    }
   },
   "outputs": [],
   "source": [
    "sample_decoder_gold = [\n",
    "    0, 0, 3, 1601, 2, 6, 2945, 6, 13, 7, 7829, 2569, 342, 151, 1496, 4, 89, 13,\n",
    "    9, 230, 886, 9, 3014, 227, 322, 4, 2, 1, 0, 0, 0, 0, 0, 0, 0, 0, 0, 0, 0,\n",
    "    0, 0, 0, 0, 0, 0, 0, 0, 0, 0, 0, 0, 0, 0, 0, 0, 0, 0, 0, 0, 0, 0, 0, 0, 0,\n",
    "    0, 0, 0, 0, 0, 0, 0, 0, 0, 0\n",
    "]"
   ]
  },
  {
   "cell_type": "code",
   "execution_count": 36,
   "metadata": {
    "ExecuteTime": {
     "end_time": "2019-04-24T11:45:02.066291Z",
     "start_time": "2019-04-24T11:45:02.058439Z"
    }
   },
   "outputs": [],
   "source": [
    "sample_decoder_output = [\n",
    "    0, 5, 4, 3411, 2281, 4, 2, 7, 2, 3621, 10, 2, 3621, 484, 5, 2, 2, 4, 10, 0,\n",
    "    5, 10, 4, 2, 7, 2, 7, 1259, 2, 7063, 1259, 2, 7, 1259, 12, 4, 2, 4, 7,\n",
    "    1421, 3621, 3771, 3771, 9, 1259, 1259, 1259, 2, 4, 1285, 2, 10, 7874, 28,\n",
    "    4, 688, 4, 12, 2, 2, 9089, 9089, 1259, 7063, 688, 2, 9089, 9089, 1259,\n",
    "    7063, 0, 0, 0, 0\n",
    "]"
   ]
  },
  {
   "cell_type": "code",
   "execution_count": 37,
   "metadata": {
    "ExecuteTime": {
     "end_time": "2019-04-24T11:45:02.266378Z",
     "start_time": "2019-04-24T11:45:02.256489Z"
    }
   },
   "outputs": [],
   "source": [
    "sample_cur_tgt_batch = [\n",
    "    5, 7753, 2, 7527, 2369, 70, 2527, 2, 2088, 2, 1848, 2547, 2, 453, 901, 747,\n",
    "    2, 164, 116, 4502, 2, 5, 7982, 3436, 2, 1925, 521, 2, 5379, 4963, 2545,\n",
    "    559, 1335, 2, 5, 2, 9139, 5, 2, 1749, 2149, 4888, 6916, 797, 5150, 5587,\n",
    "    7723, 2, 2334, 1130, 1215, 33, 5, 423, 2, 3403, 3162, 4685, 2689, 1480, 45,\n",
    "    796, 1334, 717, 2086, 6788, 4369, 2, 2, 2444, 671, 2, 8719, 328, 5093,\n",
    "    7673, 1556, 2008, 855, 4540, 1490, 2, 6391, 2, 1057, 747, 5, 5619, 620,\n",
    "    3984, 1268, 655, 176, 661, 2, 2, 527, 7999, 8, 1749\n",
    "]"
   ]
  },
  {
   "cell_type": "code",
   "execution_count": 38,
   "metadata": {
    "ExecuteTime": {
     "end_time": "2019-04-24T11:45:02.725605Z",
     "start_time": "2019-04-24T11:45:02.717732Z"
    }
   },
   "outputs": [
    {
     "name": "stdout",
     "output_type": "stream",
     "text": [
      "the only that see enough cap ian emotional capital them others grounds and raul aerial can very their a button most under the UNK political similar u.s. to european have the daughter for away station . UNK UNK , peterson , to interesting britain his a moves did an six and the asked cap interrupted that interview midfielder station UNK UNK has then feeling house has again experts has from using a violated grounds that solar . their be using the cap november jackson , the center christmas a cats emotional ' capital radiation from seems 2001 and fast they was money been 's these his line shore 's these in a explains . shopping man european UNK UNK UNK UNK , peterson , to the can capital 's a emotional in weapon cap explains UNK UNK the only that see london emotional and doctors . be using a cap down has 2011 let made at cap and a line 's these . UNK money UNK UNK UNK was arrested from cap injuries ` she in has bonds view and let . be using a cap november jackson longer and at disrupt . is the just in UNK that explains , leader devastated 's women # capital set car video explains . UNK , they that french cap injuries she in has u.s. , using has cap an has 2011 UNK UNK they to i a britain ` has UNK UNK made at cap and liverpool animals 's these . 's six , UNK using a solar from member spends , a.m. , they man investigation in moves , get activities states . spends that head nearest that clinton great *** must has and these a or cap , will be using longer and has 2011 that ian . he told said you ` life and made my cap and limit 's behind and also nearest a some bus cap , by on to professor and not said , on spends new activities , will this start a 12 up the daughter for reported emotional is UNK is move through . the can supposed in but urged emotional until as the become in order story 's calories their UNK UNK sons a cap is division in has described , they n't saw using a explains . has cap to water lie royal and UNK 2014 car 's retreat , EOS\n"
     ]
    }
   ],
   "source": [
    "s = [id2word[id] for id in sample_encoder_input]\n",
    "print(' '.join(s))"
   ]
  },
  {
   "cell_type": "code",
   "execution_count": 39,
   "metadata": {
    "ExecuteTime": {
     "end_time": "2019-04-24T11:45:03.283203Z",
     "start_time": "2019-04-24T11:45:03.275844Z"
    }
   },
   "outputs": [
    {
     "name": "stdout",
     "output_type": "stream",
     "text": [
      "SOS the u.s. for european tells european man have military grounds and made cap and radiation 's behind ` a money been and using a cap . decline for face car to together 's the daughter for away emotional time the brought in found very . button aerial UNK UNK , peterson , under the others capital 's the emotional november jackson . UNK EOS PAD PAD PAD PAD PAD\n"
     ]
    }
   ],
   "source": [
    "s = [id2word[id] for id in sample_decoder_input]\n",
    "print(' '.join(s))"
   ]
  },
  {
   "cell_type": "code",
   "execution_count": 40,
   "metadata": {
    "ExecuteTime": {
     "end_time": "2019-04-24T11:45:03.744656Z",
     "start_time": "2019-04-24T11:45:03.739274Z"
    }
   },
   "outputs": [
    {
     "name": "stdout",
     "output_type": "stream",
     "text": [
      "PAD PAD SOS ceremony UNK , understanding , was to ivf stabbed minister house ways . now was and woman crash and conspiracy young several . UNK EOS PAD PAD PAD PAD PAD PAD PAD PAD PAD PAD PAD PAD PAD PAD PAD PAD PAD PAD PAD PAD PAD PAD PAD PAD PAD PAD PAD PAD PAD PAD PAD PAD PAD PAD PAD PAD PAD PAD PAD PAD PAD PAD PAD PAD PAD PAD\n"
     ]
    }
   ],
   "source": [
    "s = [id2word[id] for id in sample_decoder_gold]\n",
    "print(' '.join(s))"
   ]
  },
  {
   "cell_type": "code",
   "execution_count": 41,
   "metadata": {
    "ExecuteTime": {
     "end_time": "2019-04-24T11:45:04.367655Z",
     "start_time": "2019-04-24T11:45:04.365200Z"
    }
   },
   "outputs": [
    {
     "name": "stdout",
     "output_type": "stream",
     "text": [
      "the agony UNK scattered tennis into native UNK prosecution UNK critical auction UNK point operation race UNK country most pledged UNK the genuinely capacity UNK confidence tried UNK creatures violation controversy leader raise UNK the UNK reversed the UNK taylor morgan operated pga board assaulting ownership parenting UNK rich weapons eye be the dead UNK horror maximum brussels rugby contract been gone mind huge birmingham fitting spencer UNK UNK woods private UNK squeeze local producers cyprus commission criticism returned mosque strike UNK 1985 UNK sir race the infamous fact keith higher miles death justice UNK UNK thing encourages a taylor\n"
     ]
    }
   ],
   "source": [
    "s = [id2word[id] for id in sample_cur_tgt_batch]\n",
    "print(' '.join(s))"
   ]
  },
  {
   "cell_type": "code",
   "execution_count": 42,
   "metadata": {
    "ExecuteTime": {
     "end_time": "2019-04-24T11:45:04.851786Z",
     "start_time": "2019-04-24T11:45:04.843667Z"
    }
   },
   "outputs": [
    {
     "name": "stdout",
     "output_type": "stream",
     "text": [
      "PAD the . celtic busy . UNK to UNK debris of UNK debris september the UNK UNK . of PAD the of . UNK to UNK to rise UNK wiltshire rise UNK to rise 's . UNK . to century debris 1970s 1970s and rise rise rise UNK . managed UNK of belongs by . 25 . 's UNK UNK answering answering rise wiltshire 25 UNK answering answering rise wiltshire PAD PAD PAD PAD\n"
     ]
    }
   ],
   "source": [
    "s = [id2word[id] for id in sample_decoder_output]\n",
    "print(' '.join(s))"
   ]
  },
  {
   "cell_type": "markdown",
   "metadata": {},
   "source": [
    "# 统计语料"
   ]
  },
  {
   "cell_type": "code",
   "execution_count": 43,
   "metadata": {
    "ExecuteTime": {
     "end_time": "2019-04-24T11:45:07.011559Z",
     "start_time": "2019-04-24T11:45:06.869423Z"
    }
   },
   "outputs": [],
   "source": [
    "train_tgt = pickle.load(open(\"./data/train.txt.tgt.tagged.onehot\", \"rb\"))\n",
    "vali_tgt = pickle.load(open(\"./data/val.txt.tgt.tagged.onehot\", \"rb\"))\n",
    "test_tgt = pickle.load(open(\"./data/test.txt.tgt.tagged.onehot\", \"rb\"))"
   ]
  },
  {
   "cell_type": "code",
   "execution_count": 44,
   "metadata": {
    "ExecuteTime": {
     "end_time": "2019-04-24T11:45:07.282906Z",
     "start_time": "2019-04-24T11:45:07.275874Z"
    }
   },
   "outputs": [
    {
     "name": "stdout",
     "output_type": "stream",
     "text": [
      "287227\n"
     ]
    }
   ],
   "source": [
    "print(len(train_tgt))"
   ]
  },
  {
   "cell_type": "code",
   "execution_count": 45,
   "metadata": {
    "ExecuteTime": {
     "end_time": "2019-04-24T11:45:07.676195Z",
     "start_time": "2019-04-24T11:45:07.671214Z"
    }
   },
   "outputs": [
    {
     "name": "stdout",
     "output_type": "stream",
     "text": [
      "13368\n"
     ]
    }
   ],
   "source": [
    "print(len(vali_tgt))"
   ]
  },
  {
   "cell_type": "code",
   "execution_count": 46,
   "metadata": {
    "ExecuteTime": {
     "end_time": "2019-04-24T11:45:08.179191Z",
     "start_time": "2019-04-24T11:45:08.171170Z"
    }
   },
   "outputs": [
    {
     "name": "stdout",
     "output_type": "stream",
     "text": [
      "11490\n"
     ]
    }
   ],
   "source": [
    "print(len(test_tgt))"
   ]
  },
  {
   "cell_type": "markdown",
   "metadata": {},
   "source": [
    "# 从onehot中恢复出文本\n",
    "- 即获得截断长度的文本，另存为一份语料，用于fairseq训练"
   ]
  },
  {
   "cell_type": "code",
   "execution_count": 2,
   "metadata": {
    "ExecuteTime": {
     "end_time": "2019-04-20T08:32:47.702085Z",
     "start_time": "2019-04-20T08:32:47.698573Z"
    }
   },
   "outputs": [],
   "source": [
    "parts = ['train', 'val', 'test']"
   ]
  },
  {
   "cell_type": "code",
   "execution_count": 52,
   "metadata": {
    "ExecuteTime": {
     "end_time": "2019-04-20T08:00:43.421773Z",
     "start_time": "2019-04-20T08:00:16.414752Z"
    }
   },
   "outputs": [
    {
     "data": {
      "application/vnd.jupyter.widget-view+json": {
       "model_id": "5345a7056dda4f44b49d911e8c3e72e7",
       "version_major": 2,
       "version_minor": 0
      },
      "text/plain": [
       "HBox(children=(IntProgress(value=0, max=287227), HTML(value='')))"
      ]
     },
     "metadata": {},
     "output_type": "display_data"
    },
    {
     "name": "stdout",
     "output_type": "stream",
     "text": [
      "\n"
     ]
    },
    {
     "data": {
      "application/vnd.jupyter.widget-view+json": {
       "model_id": "f2f475b9ed70428a87c7f1c272e18bed",
       "version_major": 2,
       "version_minor": 0
      },
      "text/plain": [
       "HBox(children=(IntProgress(value=0, max=13368), HTML(value='')))"
      ]
     },
     "metadata": {},
     "output_type": "display_data"
    },
    {
     "name": "stdout",
     "output_type": "stream",
     "text": [
      "\n"
     ]
    },
    {
     "data": {
      "application/vnd.jupyter.widget-view+json": {
       "model_id": "33a857b6e1e64d17911d41486cbfdbe9",
       "version_major": 2,
       "version_minor": 0
      },
      "text/plain": [
       "HBox(children=(IntProgress(value=0, max=11490), HTML(value='')))"
      ]
     },
     "metadata": {},
     "output_type": "display_data"
    },
    {
     "name": "stdout",
     "output_type": "stream",
     "text": [
      "\n"
     ]
    }
   ],
   "source": [
    "for p in parts:\n",
    "    with open(\"./data/fairseq/\" + p + \".src\", \"w\") as f:\n",
    "        onehot = pickle.load(open(\"./data/\" + p + \".txt.src.onehot\", \"rb\"))\n",
    "        for sentence in tqdm(onehot):\n",
    "            s = [id2word[id] for id in sentence.numpy()]\n",
    "            f.write(' '.join(s) + \"\\n\")"
   ]
  },
  {
   "cell_type": "code",
   "execution_count": 53,
   "metadata": {
    "ExecuteTime": {
     "end_time": "2019-04-20T08:00:49.552762Z",
     "start_time": "2019-04-20T08:00:45.278451Z"
    }
   },
   "outputs": [
    {
     "data": {
      "application/vnd.jupyter.widget-view+json": {
       "model_id": "8cc87873ef1f4a959225a58ad2ac6b3a",
       "version_major": 2,
       "version_minor": 0
      },
      "text/plain": [
       "HBox(children=(IntProgress(value=0, max=287227), HTML(value='')))"
      ]
     },
     "metadata": {},
     "output_type": "display_data"
    },
    {
     "name": "stdout",
     "output_type": "stream",
     "text": [
      "\n"
     ]
    },
    {
     "data": {
      "application/vnd.jupyter.widget-view+json": {
       "model_id": "61191a3a8344405681fd0edddb9e5001",
       "version_major": 2,
       "version_minor": 0
      },
      "text/plain": [
       "HBox(children=(IntProgress(value=0, max=13368), HTML(value='')))"
      ]
     },
     "metadata": {},
     "output_type": "display_data"
    },
    {
     "name": "stdout",
     "output_type": "stream",
     "text": [
      "\n"
     ]
    },
    {
     "data": {
      "application/vnd.jupyter.widget-view+json": {
       "model_id": "725336e87de1461b85c9485f7da7b31f",
       "version_major": 2,
       "version_minor": 0
      },
      "text/plain": [
       "HBox(children=(IntProgress(value=0, max=11490), HTML(value='')))"
      ]
     },
     "metadata": {},
     "output_type": "display_data"
    },
    {
     "name": "stdout",
     "output_type": "stream",
     "text": [
      "\n"
     ]
    }
   ],
   "source": [
    "for p in parts:\n",
    "    with open(\"./data/fairseq/\" + p + \".tgt\", \"w\") as f:\n",
    "        onehot = pickle.load(\n",
    "            open(\"./data/\" + p + \".txt.tgt.tagged.onehot\", \"rb\"))\n",
    "        for sentence in tqdm(onehot):\n",
    "            s = [id2word[id] for id in sentence.numpy()]\n",
    "            f.write(' '.join(s) + \"\\n\")"
   ]
  },
  {
   "cell_type": "markdown",
   "metadata": {},
   "source": [
    "# 直接将clean语料截断"
   ]
  },
  {
   "cell_type": "code",
   "execution_count": 15,
   "metadata": {
    "ExecuteTime": {
     "end_time": "2019-04-20T08:42:50.891696Z",
     "start_time": "2019-04-20T08:42:40.788147Z"
    }
   },
   "outputs": [
    {
     "data": {
      "application/vnd.jupyter.widget-view+json": {
       "model_id": "e38f11ae9d294017b88b7c50f71f2382",
       "version_major": 2,
       "version_minor": 0
      },
      "text/plain": [
       "HBox(children=(IntProgress(value=1, bar_style='info', max=1), HTML(value='')))"
      ]
     },
     "metadata": {},
     "output_type": "display_data"
    },
    {
     "name": "stdout",
     "output_type": "stream",
     "text": [
      "\n"
     ]
    },
    {
     "data": {
      "application/vnd.jupyter.widget-view+json": {
       "model_id": "1343cffebb9b437f9352f2ecb8db0f8d",
       "version_major": 2,
       "version_minor": 0
      },
      "text/plain": [
       "HBox(children=(IntProgress(value=1, bar_style='info', max=1), HTML(value='')))"
      ]
     },
     "metadata": {},
     "output_type": "display_data"
    },
    {
     "name": "stdout",
     "output_type": "stream",
     "text": [
      "\n"
     ]
    },
    {
     "data": {
      "application/vnd.jupyter.widget-view+json": {
       "model_id": "e8a04e7bf6fb49e5b2e2eff63efe942d",
       "version_major": 2,
       "version_minor": 0
      },
      "text/plain": [
       "HBox(children=(IntProgress(value=1, bar_style='info', max=1), HTML(value='')))"
      ]
     },
     "metadata": {},
     "output_type": "display_data"
    },
    {
     "name": "stdout",
     "output_type": "stream",
     "text": [
      "\n"
     ]
    }
   ],
   "source": [
    "for p in parts:\n",
    "    with open(\"./data/fairseq/\" + p + \".src\", \"w\") as fw:\n",
    "        fr = open(\"./data/\" + p + \".txt.src.clean\", \"r\")\n",
    "        for sentence in tqdm(fr):\n",
    "            s = ' '.join(sentence.split(' ')[:SRC_LENGTH])\n",
    "            fw.write(s)\n",
    "            if ord(s[-1]) != 10:\n",
    "                fw.write(\"\\n\")\n",
    "        fr.close()"
   ]
  },
  {
   "cell_type": "code",
   "execution_count": 16,
   "metadata": {
    "ExecuteTime": {
     "end_time": "2019-04-20T08:44:30.590064Z",
     "start_time": "2019-04-20T08:44:29.454149Z"
    }
   },
   "outputs": [
    {
     "data": {
      "application/vnd.jupyter.widget-view+json": {
       "model_id": "ed9f41138d5f4a3eae02e17989de7569",
       "version_major": 2,
       "version_minor": 0
      },
      "text/plain": [
       "HBox(children=(IntProgress(value=1, bar_style='info', max=1), HTML(value='')))"
      ]
     },
     "metadata": {},
     "output_type": "display_data"
    },
    {
     "name": "stdout",
     "output_type": "stream",
     "text": [
      "\n"
     ]
    },
    {
     "data": {
      "application/vnd.jupyter.widget-view+json": {
       "model_id": "86b754b685734541844793145302454d",
       "version_major": 2,
       "version_minor": 0
      },
      "text/plain": [
       "HBox(children=(IntProgress(value=1, bar_style='info', max=1), HTML(value='')))"
      ]
     },
     "metadata": {},
     "output_type": "display_data"
    },
    {
     "name": "stdout",
     "output_type": "stream",
     "text": [
      "\n"
     ]
    },
    {
     "data": {
      "application/vnd.jupyter.widget-view+json": {
       "model_id": "1d189e7246b7406f9c84f46fd2afbee9",
       "version_major": 2,
       "version_minor": 0
      },
      "text/plain": [
       "HBox(children=(IntProgress(value=1, bar_style='info', max=1), HTML(value='')))"
      ]
     },
     "metadata": {},
     "output_type": "display_data"
    },
    {
     "name": "stdout",
     "output_type": "stream",
     "text": [
      "\n"
     ]
    }
   ],
   "source": [
    "for p in parts:\n",
    "    with open(\"./data/fairseq/\" + p + \".tgt\", \"w\") as fw:\n",
    "        fr = open(\"./data/\" + p + \".txt.tgt.tagged.clean\", \"r\")\n",
    "        for sentence in tqdm(fr):\n",
    "            s = ' '.join(sentence.split(' ')[:TGT_LENGTH])\n",
    "            fw.write(s)\n",
    "            if ord(s[-1]) != 10:\n",
    "                fw.write(\"\\n\")\n",
    "        fr.close()"
   ]
  }
 ],
 "metadata": {
  "kernelspec": {
   "display_name": "Python 3",
   "language": "python",
   "name": "python3"
  },
  "language_info": {
   "codemirror_mode": {
    "name": "ipython",
    "version": 3
   },
   "file_extension": ".py",
   "mimetype": "text/x-python",
   "name": "python",
   "nbconvert_exporter": "python",
   "pygments_lexer": "ipython3",
   "version": "3.7.3"
  },
  "latex_envs": {
   "LaTeX_envs_menu_present": true,
   "autoclose": false,
   "autocomplete": true,
   "bibliofile": "biblio.bib",
   "cite_by": "apalike",
   "current_citInitial": 1,
   "eqLabelWithNumbers": true,
   "eqNumInitial": 1,
   "hotkeys": {
    "equation": "Ctrl-E",
    "itemize": "Ctrl-I"
   },
   "labels_anchors": false,
   "latex_user_defs": false,
   "report_style_numbering": false,
   "user_envs_cfg": false
  },
  "toc": {
   "base_numbering": 1,
   "nav_menu": {
    "height": "531px",
    "width": "308px"
   },
   "number_sections": true,
   "sideBar": true,
   "skip_h1_title": false,
   "title_cell": "Table of Contents",
   "title_sidebar": "Contents",
   "toc_cell": false,
   "toc_position": {},
   "toc_section_display": true,
   "toc_window_display": false
  }
 },
 "nbformat": 4,
 "nbformat_minor": 2
}
