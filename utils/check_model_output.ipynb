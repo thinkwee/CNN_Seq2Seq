{
 "cells": [
  {
   "cell_type": "code",
   "execution_count": null,
   "metadata": {
    "ExecuteTime": {
     "end_time": "2019-03-29T06:54:21.184229Z",
     "start_time": "2019-03-29T06:54:21.180935Z"
    }
   },
   "outputs": [],
   "source": [
    "import _pickle as pickle"
   ]
  },
  {
   "cell_type": "code",
   "execution_count": null,
   "metadata": {
    "ExecuteTime": {
     "end_time": "2019-03-29T06:54:21.481944Z",
     "start_time": "2019-03-29T06:54:21.469032Z"
    }
   },
   "outputs": [],
   "source": [
    "id2word = pickle.load(open(\"./data/id2word.dat\", \"rb\"))"
   ]
  },
  {
   "cell_type": "code",
   "execution_count": null,
   "metadata": {
    "ExecuteTime": {
     "end_time": "2019-03-29T06:54:21.923629Z",
     "start_time": "2019-03-29T06:54:21.915965Z"
    }
   },
   "outputs": [],
   "source": [
    "model_train_predicted = pickle.load(open(\"./conv_seq2seq_simple/train_predicted.dat\",\"rb\"))"
   ]
  },
  {
   "cell_type": "code",
   "execution_count": null,
   "metadata": {
    "ExecuteTime": {
     "end_time": "2019-03-29T06:54:22.577732Z",
     "start_time": "2019-03-29T06:54:22.572654Z"
    }
   },
   "outputs": [],
   "source": [
    "batch_size = len(model_train_predicted)\n",
    "batch_size"
   ]
  },
  {
   "cell_type": "code",
   "execution_count": null,
   "metadata": {
    "ExecuteTime": {
     "end_time": "2019-03-29T06:54:23.406678Z",
     "start_time": "2019-03-29T06:54:23.401040Z"
    }
   },
   "outputs": [],
   "source": [
    "gold =  pickle.load(open(\"./conv_seq2seq_simple/train_predicted_gold.dat\", \"rb\")).cpu().numpy()\n",
    "print(len(gold))"
   ]
  },
  {
   "cell_type": "code",
   "execution_count": null,
   "metadata": {
    "ExecuteTime": {
     "end_time": "2019-03-29T06:54:26.339459Z",
     "start_time": "2019-03-29T06:54:26.245390Z"
    }
   },
   "outputs": [],
   "source": [
    "for i in range(batch_size):\n",
    "    s = [id2word[id] for id in model_train_predicted[i]]\n",
    "    s_gold = [id2word[id] for id in gold[i]]\n",
    "    print(\"[[SAMPLE %d]]\"%i)\n",
    "    print(\"[MODEL OUTPUT]\")\n",
    "    print(' '.join(s))\n",
    "    print('----------------------------------------')\n",
    "    print(\"[GOLD]\")\n",
    "    print(' '.join(s_gold))\n",
    "    print(\"\\n\\n\")"
   ]
  },
  {
   "cell_type": "code",
   "execution_count": null,
   "metadata": {},
   "outputs": [],
   "source": []
  }
 ],
 "metadata": {
  "kernelspec": {
   "display_name": "Python 3 (ipykernel)",
   "language": "python",
   "name": "python3"
  },
  "language_info": {
   "codemirror_mode": {
    "name": "ipython",
    "version": 3
   },
   "file_extension": ".py",
   "mimetype": "text/x-python",
   "name": "python",
   "nbconvert_exporter": "python",
   "pygments_lexer": "ipython3",
   "version": "3.8.2"
  },
  "latex_envs": {
   "LaTeX_envs_menu_present": true,
   "autoclose": false,
   "autocomplete": true,
   "bibliofile": "biblio.bib",
   "cite_by": "apalike",
   "current_citInitial": 1,
   "eqLabelWithNumbers": true,
   "eqNumInitial": 1,
   "hotkeys": {
    "equation": "Ctrl-E",
    "itemize": "Ctrl-I"
   },
   "labels_anchors": false,
   "latex_user_defs": false,
   "report_style_numbering": false,
   "user_envs_cfg": false
  }
 },
 "nbformat": 4,
 "nbformat_minor": 2
}
