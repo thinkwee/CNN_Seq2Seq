{
 "cells": [
  {
   "cell_type": "code",
   "execution_count": null,
   "metadata": {
    "ExecuteTime": {
     "end_time": "2019-04-24T02:49:10.348597Z",
     "start_time": "2019-04-24T02:49:10.191790Z"
    }
   },
   "outputs": [],
   "source": [
    "import numpy as np\n",
    "import torch\n",
    "from torch import nn\n",
    "from torch.nn import functional as F\n",
    "import numpy as np\n",
    "import math"
   ]
  },
  {
   "cell_type": "markdown",
   "metadata": {},
   "source": [
    "# torch.index_select\n",
    "- 选择某一维度的tensor\n",
    "- 选择某一维度（切片）的tensor"
   ]
  },
  {
   "cell_type": "code",
   "execution_count": null,
   "metadata": {
    "ExecuteTime": {
     "end_time": "2019-04-01T02:03:35.947918Z",
     "start_time": "2019-04-01T02:03:35.943398Z"
    }
   },
   "outputs": [],
   "source": [
    "a = [i for i in range(100)]"
   ]
  },
  {
   "cell_type": "code",
   "execution_count": null,
   "metadata": {
    "ExecuteTime": {
     "end_time": "2019-04-01T02:03:36.296691Z",
     "start_time": "2019-04-01T02:03:36.294960Z"
    }
   },
   "outputs": [],
   "source": [
    "a = np.asarray(a)"
   ]
  },
  {
   "cell_type": "code",
   "execution_count": null,
   "metadata": {
    "ExecuteTime": {
     "end_time": "2019-04-01T02:03:36.684290Z",
     "start_time": "2019-04-01T02:03:36.662770Z"
    }
   },
   "outputs": [],
   "source": [
    "tensor = torch.from_numpy(a).view(5, 2, 10)\n",
    "tensor"
   ]
  },
  {
   "cell_type": "code",
   "execution_count": null,
   "metadata": {
    "ExecuteTime": {
     "end_time": "2019-04-01T02:03:37.359819Z",
     "start_time": "2019-04-01T02:03:37.358012Z"
    }
   },
   "outputs": [],
   "source": [
    "index = torch.tensor([0])"
   ]
  },
  {
   "cell_type": "code",
   "execution_count": null,
   "metadata": {
    "ExecuteTime": {
     "end_time": "2019-04-01T02:03:38.304343Z",
     "start_time": "2019-04-01T02:03:38.302187Z"
    }
   },
   "outputs": [],
   "source": [
    "print(index)"
   ]
  },
  {
   "cell_type": "code",
   "execution_count": null,
   "metadata": {
    "ExecuteTime": {
     "end_time": "2019-04-01T02:03:38.781936Z",
     "start_time": "2019-04-01T02:03:38.775023Z"
    }
   },
   "outputs": [],
   "source": [
    "selected_tensor = torch.index_select(tensor, -2, index)"
   ]
  },
  {
   "cell_type": "code",
   "execution_count": null,
   "metadata": {
    "ExecuteTime": {
     "end_time": "2019-04-01T02:04:03.445654Z",
     "start_time": "2019-04-01T02:04:03.442845Z"
    }
   },
   "outputs": [],
   "source": [
    "print(selected_tensor)"
   ]
  },
  {
   "cell_type": "code",
   "execution_count": null,
   "metadata": {
    "ExecuteTime": {
     "end_time": "2019-04-01T02:04:04.672699Z",
     "start_time": "2019-04-01T02:04:04.670849Z"
    }
   },
   "outputs": [],
   "source": [
    "x = torch.rand(3, 4)"
   ]
  },
  {
   "cell_type": "code",
   "execution_count": null,
   "metadata": {
    "ExecuteTime": {
     "end_time": "2019-04-01T02:04:05.347130Z",
     "start_time": "2019-04-01T02:04:05.326890Z"
    }
   },
   "outputs": [],
   "source": [
    "x"
   ]
  },
  {
   "cell_type": "code",
   "execution_count": null,
   "metadata": {
    "ExecuteTime": {
     "end_time": "2019-04-01T02:04:07.168652Z",
     "start_time": "2019-04-01T02:04:07.166769Z"
    }
   },
   "outputs": [],
   "source": [
    "indices = torch.tensor([0, 2])"
   ]
  },
  {
   "cell_type": "code",
   "execution_count": null,
   "metadata": {
    "ExecuteTime": {
     "end_time": "2019-04-01T02:04:07.519772Z",
     "start_time": "2019-04-01T02:04:07.515790Z"
    }
   },
   "outputs": [],
   "source": [
    "torch.index_select(x, 0, indices)"
   ]
  },
  {
   "cell_type": "markdown",
   "metadata": {},
   "source": [
    "# nn.Softmax\n",
    "- 指定某一维度进行softmax"
   ]
  },
  {
   "cell_type": "code",
   "execution_count": null,
   "metadata": {
    "ExecuteTime": {
     "end_time": "2019-04-01T02:04:27.362039Z",
     "start_time": "2019-04-01T02:04:27.359086Z"
    }
   },
   "outputs": [],
   "source": [
    "t = torch.rand(2, 3, 4)\n",
    "t"
   ]
  },
  {
   "cell_type": "code",
   "execution_count": null,
   "metadata": {
    "ExecuteTime": {
     "end_time": "2019-04-01T02:04:30.187465Z",
     "start_time": "2019-04-01T02:04:30.175587Z"
    }
   },
   "outputs": [],
   "source": [
    "softmax_layer = nn.Softmax(dim=2)\n",
    "softmax_layer(t)"
   ]
  },
  {
   "cell_type": "markdown",
   "metadata": {},
   "source": [
    "# 生成mask tensor\n",
    "- 生成下三角矩阵"
   ]
  },
  {
   "cell_type": "code",
   "execution_count": null,
   "metadata": {
    "ExecuteTime": {
     "end_time": "2019-04-01T02:05:16.172976Z",
     "start_time": "2019-04-01T02:05:16.161037Z"
    }
   },
   "outputs": [],
   "source": [
    "mask_tensor = torch.ones(0)\n",
    "batch_size = 2\n",
    "len_sentence = 10\n",
    "mask = torch.ones(len_sentence)\n",
    "for j in range(batch_size):\n",
    "    for i in range(1, len_sentence + 1):\n",
    "        masked = mask.clone()\n",
    "        masked[i:] = 0\n",
    "        mask_tensor = torch.cat((mask_tensor, masked))\n",
    "mask_tensor = mask_tensor.contiguous().view(batch_size, len_sentence, -1)\n",
    "mask_tensor.size()"
   ]
  },
  {
   "cell_type": "code",
   "execution_count": null,
   "metadata": {
    "ExecuteTime": {
     "end_time": "2019-04-01T02:05:16.798605Z",
     "start_time": "2019-04-01T02:05:16.793465Z"
    }
   },
   "outputs": [],
   "source": [
    "print(mask_tensor)"
   ]
  },
  {
   "cell_type": "code",
   "execution_count": null,
   "metadata": {
    "ExecuteTime": {
     "end_time": "2019-04-01T02:05:29.411211Z",
     "start_time": "2019-04-01T02:05:29.408840Z"
    }
   },
   "outputs": [],
   "source": [
    "indices"
   ]
  },
  {
   "cell_type": "code",
   "execution_count": null,
   "metadata": {
    "ExecuteTime": {
     "end_time": "2019-04-01T02:05:29.802511Z",
     "start_time": "2019-04-01T02:05:29.787134Z"
    }
   },
   "outputs": [],
   "source": [
    "for idx in range(len_sentence):\n",
    "    indices = torch.tensor([idx])\n",
    "    print(torch.index_select(mask_tensor, 1, indices).squeeze().size())"
   ]
  },
  {
   "cell_type": "markdown",
   "metadata": {},
   "source": [
    "# CrossEntropyLoss与LogSoftmax+NLLLoss"
   ]
  },
  {
   "cell_type": "code",
   "execution_count": null,
   "metadata": {
    "ExecuteTime": {
     "end_time": "2019-04-01T02:06:39.003439Z",
     "start_time": "2019-04-01T02:06:38.988463Z"
    }
   },
   "outputs": [],
   "source": [
    "loss = nn.CrossEntropyLoss()\n",
    "input = torch.randn(3, 5, requires_grad=True)\n",
    "target = torch.empty(3, dtype=torch.long).random_(5)\n",
    "print(input)\n",
    "print(target)\n",
    "output = loss(input, target)\n",
    "print(output)\n",
    "output.backward()"
   ]
  },
  {
   "cell_type": "code",
   "execution_count": null,
   "metadata": {
    "ExecuteTime": {
     "end_time": "2019-04-01T02:06:55.866945Z",
     "start_time": "2019-04-01T02:06:55.862557Z"
    }
   },
   "outputs": [],
   "source": [
    "m = nn.LogSoftmax(dim=1)\n",
    "loss = nn.NLLLoss()\n",
    "# input is of size N x C = 3 x 5\n",
    "input = torch.randn(3, 5, requires_grad=True)\n",
    "# each element in target has to have 0 <= value < C\n",
    "target = torch.tensor([1, 0, 4])\n",
    "print(input)\n",
    "print(target)\n",
    "print(m(input))\n",
    "output = loss(m(input), target)\n",
    "print(output)\n",
    "output.backward()"
   ]
  },
  {
   "cell_type": "markdown",
   "metadata": {
    "ExecuteTime": {
     "end_time": "2019-04-01T02:08:55.865697Z",
     "start_time": "2019-04-01T02:08:55.863941Z"
    }
   },
   "source": [
    "# argmax"
   ]
  },
  {
   "cell_type": "code",
   "execution_count": null,
   "metadata": {
    "ExecuteTime": {
     "end_time": "2019-04-01T02:09:00.503684Z",
     "start_time": "2019-04-01T02:09:00.500699Z"
    }
   },
   "outputs": [],
   "source": [
    "a = torch.rand(3, 4)\n",
    "a"
   ]
  },
  {
   "cell_type": "code",
   "execution_count": null,
   "metadata": {
    "ExecuteTime": {
     "end_time": "2019-04-01T02:09:00.916689Z",
     "start_time": "2019-04-01T02:09:00.908074Z"
    }
   },
   "outputs": [],
   "source": [
    "print(torch.max(a, 0))"
   ]
  },
  {
   "cell_type": "code",
   "execution_count": null,
   "metadata": {
    "ExecuteTime": {
     "end_time": "2019-04-01T02:09:01.364760Z",
     "start_time": "2019-04-01T02:09:01.355989Z"
    }
   },
   "outputs": [],
   "source": [
    "print(torch.max(a, 1))"
   ]
  },
  {
   "cell_type": "code",
   "execution_count": null,
   "metadata": {
    "ExecuteTime": {
     "end_time": "2019-04-01T02:09:03.399419Z",
     "start_time": "2019-04-01T02:09:03.396836Z"
    }
   },
   "outputs": [],
   "source": [
    "value, index = torch.max(a, 1)\n",
    "print(index)"
   ]
  },
  {
   "cell_type": "code",
   "execution_count": null,
   "metadata": {
    "ExecuteTime": {
     "end_time": "2019-04-13T08:39:59.377585Z",
     "start_time": "2019-04-13T08:39:59.374486Z"
    }
   },
   "outputs": [],
   "source": [
    "test = torch.rand(3, 4, 5)\n",
    "test"
   ]
  },
  {
   "cell_type": "code",
   "execution_count": null,
   "metadata": {
    "ExecuteTime": {
     "end_time": "2019-04-13T08:40:44.338745Z",
     "start_time": "2019-04-13T08:40:44.326056Z"
    }
   },
   "outputs": [],
   "source": [
    "test_max = torch.max(test, 2)[1]\n",
    "test_max"
   ]
  },
  {
   "cell_type": "markdown",
   "metadata": {},
   "source": [
    "# torch.cat\n",
    "- 拼接"
   ]
  },
  {
   "cell_type": "code",
   "execution_count": null,
   "metadata": {
    "ExecuteTime": {
     "end_time": "2019-04-01T02:09:36.272455Z",
     "start_time": "2019-04-01T02:09:36.267536Z"
    }
   },
   "outputs": [],
   "source": [
    "b = torch.rand(3, 1)\n",
    "b"
   ]
  },
  {
   "cell_type": "code",
   "execution_count": null,
   "metadata": {
    "ExecuteTime": {
     "end_time": "2019-04-01T02:09:37.072684Z",
     "start_time": "2019-04-01T02:09:37.067475Z"
    }
   },
   "outputs": [],
   "source": [
    "a = torch.cat([a, b], dim=1)\n",
    "a"
   ]
  },
  {
   "cell_type": "markdown",
   "metadata": {},
   "source": [
    "# 测试mask tensor"
   ]
  },
  {
   "cell_type": "code",
   "execution_count": null,
   "metadata": {
    "ExecuteTime": {
     "end_time": "2019-04-01T02:09:59.217567Z",
     "start_time": "2019-04-01T02:09:59.212321Z"
    }
   },
   "outputs": [],
   "source": [
    "BATCH_SIZE = 3\n",
    "TGT_LENGTH = 5"
   ]
  },
  {
   "cell_type": "code",
   "execution_count": null,
   "metadata": {
    "ExecuteTime": {
     "end_time": "2019-04-01T02:10:00.216725Z",
     "start_time": "2019-04-01T02:10:00.213663Z"
    }
   },
   "outputs": [],
   "source": [
    "def create_mask_tensor():\n",
    "    mask_tensor = torch.ones(0)\n",
    "    batch_size = BATCH_SIZE\n",
    "    len_sentence = TGT_LENGTH\n",
    "    mask = torch.ones(len_sentence)\n",
    "    for _ in range(batch_size):\n",
    "        for i in range(1, len_sentence + 1):\n",
    "            masked = mask.clone()\n",
    "            masked[i:] = 0\n",
    "            mask_tensor = torch.cat((mask_tensor, masked))\n",
    "    mask_tensor = mask_tensor.contiguous().view(batch_size, len_sentence, -1)\n",
    "    return mask_tensor.long()"
   ]
  },
  {
   "cell_type": "code",
   "execution_count": null,
   "metadata": {
    "ExecuteTime": {
     "end_time": "2019-04-01T02:10:02.103528Z",
     "start_time": "2019-04-01T02:10:02.101524Z"
    }
   },
   "outputs": [],
   "source": [
    "mask_tensor = create_mask_tensor()"
   ]
  },
  {
   "cell_type": "code",
   "execution_count": null,
   "metadata": {
    "ExecuteTime": {
     "end_time": "2019-04-01T02:54:24.341707Z",
     "start_time": "2019-04-01T02:54:24.338599Z"
    }
   },
   "outputs": [],
   "source": [
    "decoder_input = torch.rand(BATCH_SIZE, TGT_LENGTH)\n",
    "decoder_input"
   ]
  },
  {
   "cell_type": "code",
   "execution_count": null,
   "metadata": {
    "ExecuteTime": {
     "end_time": "2019-04-01T02:54:24.816127Z",
     "start_time": "2019-04-01T02:54:24.805283Z"
    }
   },
   "outputs": [],
   "source": [
    "decoder_output = torch.rand(BATCH_SIZE * 1).contiguous().view(-1, 1)\n",
    "decoder_output"
   ]
  },
  {
   "cell_type": "code",
   "execution_count": null,
   "metadata": {
    "ExecuteTime": {
     "end_time": "2019-04-01T02:54:31.842260Z",
     "start_time": "2019-04-01T02:54:31.839543Z"
    }
   },
   "outputs": [],
   "source": [
    "decoder_input[:, 1:2] = decoder_output\n",
    "decoder_input"
   ]
  },
  {
   "cell_type": "code",
   "execution_count": null,
   "metadata": {
    "ExecuteTime": {
     "end_time": "2019-04-01T02:54:46.517348Z",
     "start_time": "2019-04-01T02:54:46.514272Z"
    }
   },
   "outputs": [],
   "source": [
    "decoder_input[:, 0:3]"
   ]
  },
  {
   "cell_type": "code",
   "execution_count": null,
   "metadata": {
    "ExecuteTime": {
     "end_time": "2019-04-01T02:54:47.539073Z",
     "start_time": "2019-04-01T02:54:47.535250Z"
    }
   },
   "outputs": [],
   "source": [
    "for i in range(TGT_LENGTH):\n",
    "    mask_cur = mask_tensor[:, i].squeeze().float()\n",
    "    print(torch.mul(decoder_input, mask_cur))"
   ]
  },
  {
   "cell_type": "markdown",
   "metadata": {},
   "source": [
    "# 测试SOS符号"
   ]
  },
  {
   "cell_type": "code",
   "execution_count": null,
   "metadata": {
    "ExecuteTime": {
     "end_time": "2019-04-01T02:55:18.363271Z",
     "start_time": "2019-04-01T02:55:18.357944Z"
    }
   },
   "outputs": [],
   "source": [
    "decoder_input = torch.tensor(\n",
    "    [0 for _ in range(TGT_LENGTH * BATCH_SIZE)]).contiguous().view(\n",
    "        BATCH_SIZE, TGT_LENGTH)\n",
    "decoder_input[:, 0] = torch.tensor([3 for _ in range(BATCH_SIZE)])\n",
    "print(decoder_input)"
   ]
  },
  {
   "cell_type": "markdown",
   "metadata": {},
   "source": [
    "# 测试mask convolution(casual convolution)"
   ]
  },
  {
   "cell_type": "code",
   "execution_count": null,
   "metadata": {
    "ExecuteTime": {
     "end_time": "2019-04-01T02:58:13.935915Z",
     "start_time": "2019-04-01T02:58:13.930621Z"
    }
   },
   "outputs": [],
   "source": [
    "class MaskConv1d(nn.Conv1d):\n",
    "    \"\"\"Masked Conv Kernel for Temporal Convolution\"\"\"\n",
    "\n",
    "    def __init__(self, in_channels, out_channels, kernel_size, stride, padding,\n",
    "                 dilation):\n",
    "        super().__init__(in_channels, out_channels, kernel_size, stride,\n",
    "                         padding, dilation)\n",
    "        self.mask = torch.tensor([\n",
    "            0 for _ in range(self.out_channels * self.in_channels *\n",
    "                             self.kernel_size[0])\n",
    "        ])\n",
    "        for idx in range(self.out_channels * self.in_channels *\n",
    "                         self.kernel_size[0])[::self.kernel_size[0]]:\n",
    "            for jdx in range(1 + self.kernel_size[0] // 2):\n",
    "                self.mask[idx + jdx] = 1\n",
    "        self.mask = self.mask.contiguous().view(\n",
    "            self.out_channels, self.in_channels, self.kernel_size[0]).float()\n",
    "\n",
    "    def forward(self, x):\n",
    "        return F.conv1d(\n",
    "            input=x,\n",
    "            weight=self.weight * self.mask,\n",
    "            stride=self.stride,\n",
    "            padding=self.padding,\n",
    "            dilation=self.dilation)\n",
    "\n",
    "    def show_mask(self):\n",
    "        return self.mask\n",
    "\n",
    "    def show_kernel(self):\n",
    "        return self.weight\n",
    "\n",
    "    def show_masked_kernel(self):\n",
    "        return self.mask * self.weight"
   ]
  },
  {
   "cell_type": "code",
   "execution_count": null,
   "metadata": {
    "ExecuteTime": {
     "end_time": "2019-04-01T02:58:14.141515Z",
     "start_time": "2019-04-01T02:58:14.133271Z"
    }
   },
   "outputs": [],
   "source": [
    "def MaskedWeightNormalizedConv1d(in_channels, out_channels, kernel_size,\n",
    "                                 stride, padding, dropout, dilation):\n",
    "    \"\"\"Weight-normalized Conv1d layer\"\"\"\n",
    "    m = MaskConv1d(in_channels, out_channels, kernel_size, stride, padding,\n",
    "                   dilation)\n",
    "    std = math.sqrt((4 * (1.0 - dropout)) / (m.kernel_size[0] * in_channels))\n",
    "    nn.init.normal_(m.weight, mean=0, std=std)\n",
    "    nn.init.constant_(m.bias, 0)\n",
    "    return nn.utils.weight_norm(m, dim=2)"
   ]
  },
  {
   "cell_type": "code",
   "execution_count": null,
   "metadata": {
    "ExecuteTime": {
     "end_time": "2019-04-01T02:58:57.245333Z",
     "start_time": "2019-04-01T02:58:57.240863Z"
    }
   },
   "outputs": [],
   "source": [
    "in_channels = 1\n",
    "out_channels = 1\n",
    "kernel_size = 5\n",
    "stride = 1\n",
    "padding = 2\n",
    "dropout = 0\n",
    "dilation = 1\n",
    "length = 5\n",
    "batch = 2"
   ]
  },
  {
   "cell_type": "code",
   "execution_count": null,
   "metadata": {
    "ExecuteTime": {
     "end_time": "2019-04-01T02:58:57.419660Z",
     "start_time": "2019-04-01T02:58:57.412501Z"
    }
   },
   "outputs": [],
   "source": [
    "test_conv = MaskedWeightNormalizedConv1d(\n",
    "    in_channels, out_channels, kernel_size, stride, padding, dropout, dilation)"
   ]
  },
  {
   "cell_type": "code",
   "execution_count": null,
   "metadata": {
    "ExecuteTime": {
     "end_time": "2019-04-01T02:58:57.649329Z",
     "start_time": "2019-04-01T02:58:57.637139Z"
    }
   },
   "outputs": [],
   "source": [
    "test_input = torch.rand(batch, in_channels, length)\n",
    "test_input"
   ]
  },
  {
   "cell_type": "code",
   "execution_count": null,
   "metadata": {
    "ExecuteTime": {
     "end_time": "2019-04-01T02:58:58.127348Z",
     "start_time": "2019-04-01T02:58:58.119938Z"
    }
   },
   "outputs": [],
   "source": [
    "test_output = test_conv(test_input)\n",
    "test_output"
   ]
  },
  {
   "cell_type": "code",
   "execution_count": null,
   "metadata": {
    "ExecuteTime": {
     "end_time": "2019-04-01T02:58:59.344867Z",
     "start_time": "2019-04-01T02:58:59.342045Z"
    }
   },
   "outputs": [],
   "source": [
    "test_output[:, :, 2].view(batch, out_channels, 1)"
   ]
  },
  {
   "cell_type": "markdown",
   "metadata": {},
   "source": [
    "# 可以更改conv的pad，不影响参数"
   ]
  },
  {
   "cell_type": "code",
   "execution_count": null,
   "metadata": {
    "ExecuteTime": {
     "end_time": "2019-04-01T02:59:12.330428Z",
     "start_time": "2019-04-01T02:59:12.325721Z"
    }
   },
   "outputs": [],
   "source": [
    "print(type(test_conv.padding))\n",
    "print(test_conv.padding)\n",
    "test_conv.padding = (0, )\n",
    "print(test_conv.padding)"
   ]
  },
  {
   "cell_type": "code",
   "execution_count": null,
   "metadata": {
    "ExecuteTime": {
     "end_time": "2019-04-01T02:59:14.225696Z",
     "start_time": "2019-04-01T02:59:14.221799Z"
    }
   },
   "outputs": [],
   "source": [
    "test_output = test_conv(test_input)\n",
    "print(test_output)\n",
    "print(test_output.size())"
   ]
  },
  {
   "cell_type": "code",
   "execution_count": null,
   "metadata": {
    "ExecuteTime": {
     "end_time": "2019-04-01T02:59:15.616224Z",
     "start_time": "2019-04-01T02:59:15.613700Z"
    }
   },
   "outputs": [],
   "source": [
    "test_conv.show_mask()"
   ]
  },
  {
   "cell_type": "code",
   "execution_count": null,
   "metadata": {
    "ExecuteTime": {
     "end_time": "2019-04-01T02:59:15.818283Z",
     "start_time": "2019-04-01T02:59:15.815905Z"
    }
   },
   "outputs": [],
   "source": [
    "test_conv.show_kernel()"
   ]
  },
  {
   "cell_type": "code",
   "execution_count": null,
   "metadata": {
    "ExecuteTime": {
     "end_time": "2019-04-01T02:59:16.050125Z",
     "start_time": "2019-04-01T02:59:16.036261Z"
    }
   },
   "outputs": [],
   "source": [
    "test_conv.show_masked_kernel()"
   ]
  },
  {
   "cell_type": "markdown",
   "metadata": {},
   "source": [
    "# 手动padding"
   ]
  },
  {
   "cell_type": "code",
   "execution_count": null,
   "metadata": {
    "ExecuteTime": {
     "end_time": "2019-04-01T03:25:53.525978Z",
     "start_time": "2019-04-01T03:25:53.520499Z"
    }
   },
   "outputs": [],
   "source": [
    "tobepad = torch.rand(batch_size, length)\n",
    "tobepad"
   ]
  },
  {
   "cell_type": "code",
   "execution_count": null,
   "metadata": {
    "ExecuteTime": {
     "end_time": "2019-04-01T03:25:53.873085Z",
     "start_time": "2019-04-01T03:25:53.868234Z"
    }
   },
   "outputs": [],
   "source": [
    "pad = torch.zeros(batch_size, padding)\n",
    "pad"
   ]
  },
  {
   "cell_type": "code",
   "execution_count": null,
   "metadata": {
    "ExecuteTime": {
     "end_time": "2019-04-01T03:25:54.577060Z",
     "start_time": "2019-04-01T03:25:54.571351Z"
    }
   },
   "outputs": [],
   "source": [
    "padded = torch.cat([pad, tobepad, pad], dim=1)\n",
    "padded"
   ]
  },
  {
   "cell_type": "markdown",
   "metadata": {},
   "source": [
    "# 截取kernel_size window"
   ]
  },
  {
   "cell_type": "code",
   "execution_count": null,
   "metadata": {
    "ExecuteTime": {
     "end_time": "2019-04-01T03:28:29.407075Z",
     "start_time": "2019-04-01T03:28:29.401200Z"
    }
   },
   "outputs": [],
   "source": [
    "for i in range(length):\n",
    "    print(padded[:, i:i + kernel_size])"
   ]
  },
  {
   "cell_type": "markdown",
   "metadata": {},
   "source": [
    "# 对输入遮罩"
   ]
  },
  {
   "cell_type": "code",
   "execution_count": null,
   "metadata": {
    "ExecuteTime": {
     "end_time": "2019-04-02T08:05:37.967353Z",
     "start_time": "2019-04-02T08:05:37.965551Z"
    }
   },
   "outputs": [],
   "source": [
    "BATCH_SIZE = 2\n",
    "TGT_LENGTH = 10"
   ]
  },
  {
   "cell_type": "code",
   "execution_count": null,
   "metadata": {
    "ExecuteTime": {
     "end_time": "2019-04-02T08:07:28.679022Z",
     "start_time": "2019-04-02T08:07:28.675940Z"
    }
   },
   "outputs": [],
   "source": [
    "def create_mask_tensor():\n",
    "    mask_tensor = torch.ones(0)\n",
    "    batch_size = BATCH_SIZE\n",
    "    len_sentence = TGT_LENGTH\n",
    "    mask = torch.ones(len_sentence)\n",
    "    for _ in range(batch_size):\n",
    "        for i in range(1, len_sentence + 1):\n",
    "            masked = mask.clone()\n",
    "            masked[i:] = 0\n",
    "            mask_tensor = torch.cat((mask_tensor, masked))\n",
    "    mask_tensor = mask_tensor.contiguous().view(batch_size, len_sentence, -1)\n",
    "    return mask_tensor.float()"
   ]
  },
  {
   "cell_type": "code",
   "execution_count": null,
   "metadata": {
    "ExecuteTime": {
     "end_time": "2019-04-02T08:07:29.050295Z",
     "start_time": "2019-04-02T08:07:29.038366Z"
    }
   },
   "outputs": [],
   "source": [
    "tensor = create_mask_tensor()\n",
    "tensor"
   ]
  },
  {
   "cell_type": "code",
   "execution_count": null,
   "metadata": {
    "ExecuteTime": {
     "end_time": "2019-04-02T08:07:30.291827Z",
     "start_time": "2019-04-02T08:07:30.289005Z"
    }
   },
   "outputs": [],
   "source": [
    "decoder_input = torch.rand(BATCH_SIZE, TGT_LENGTH)\n",
    "decoder_input"
   ]
  },
  {
   "cell_type": "code",
   "execution_count": null,
   "metadata": {
    "ExecuteTime": {
     "end_time": "2019-04-02T08:08:02.777273Z",
     "start_time": "2019-04-02T08:08:02.772463Z"
    }
   },
   "outputs": [],
   "source": [
    "for i in range(TGT_LENGTH):\n",
    "    print(torch.mul(decoder_input, tensor[:, i, :]))"
   ]
  },
  {
   "cell_type": "markdown",
   "metadata": {},
   "source": [
    "# 制造decoder input"
   ]
  },
  {
   "cell_type": "code",
   "execution_count": null,
   "metadata": {
    "ExecuteTime": {
     "end_time": "2019-04-02T08:26:55.782815Z",
     "start_time": "2019-04-02T08:26:55.778556Z"
    }
   },
   "outputs": [],
   "source": [
    "decoder_input = torch.zeros(BATCH_SIZE, TGT_LENGTH)\n",
    "decoder_input"
   ]
  },
  {
   "cell_type": "code",
   "execution_count": null,
   "metadata": {
    "ExecuteTime": {
     "end_time": "2019-04-02T08:28:38.879712Z",
     "start_time": "2019-04-02T08:28:38.873628Z"
    }
   },
   "outputs": [],
   "source": [
    "STR_tensor = torch.Tensor([3 for _ in range(BATCH_SIZE)]).view(BATCH_SIZE, -1)\n",
    "STR_tensor"
   ]
  },
  {
   "cell_type": "code",
   "execution_count": null,
   "metadata": {
    "ExecuteTime": {
     "end_time": "2019-04-02T08:28:59.044249Z",
     "start_time": "2019-04-02T08:28:59.041547Z"
    }
   },
   "outputs": [],
   "source": [
    "decoder_input[:, 0:1] = STR_tensor\n",
    "decoder_input"
   ]
  },
  {
   "cell_type": "code",
   "execution_count": null,
   "metadata": {
    "ExecuteTime": {
     "end_time": "2019-04-03T03:55:03.226967Z",
     "start_time": "2019-04-03T03:55:03.223822Z"
    }
   },
   "outputs": [],
   "source": [
    "a = np.ones((5, 4))\n",
    "b = np.ones((5, 4))\n",
    "a[2][1] = 5\n",
    "a"
   ]
  },
  {
   "cell_type": "code",
   "execution_count": null,
   "metadata": {
    "ExecuteTime": {
     "end_time": "2019-04-03T03:55:03.527528Z",
     "start_time": "2019-04-03T03:55:03.524695Z"
    }
   },
   "outputs": [],
   "source": [
    "b"
   ]
  },
  {
   "cell_type": "code",
   "execution_count": null,
   "metadata": {
    "ExecuteTime": {
     "end_time": "2019-04-03T03:55:07.722328Z",
     "start_time": "2019-04-03T03:55:07.719686Z"
    }
   },
   "outputs": [],
   "source": [
    "a - b"
   ]
  },
  {
   "cell_type": "code",
   "execution_count": null,
   "metadata": {
    "ExecuteTime": {
     "end_time": "2019-04-03T03:55:14.586208Z",
     "start_time": "2019-04-03T03:55:14.583665Z"
    }
   },
   "outputs": [],
   "source": [
    "np.sum(a - b == 0)"
   ]
  },
  {
   "cell_type": "markdown",
   "metadata": {},
   "source": [
    "# 测试位置向量"
   ]
  },
  {
   "cell_type": "code",
   "execution_count": null,
   "metadata": {
    "ExecuteTime": {
     "end_time": "2019-04-13T07:20:16.739901Z",
     "start_time": "2019-04-13T07:20:16.702533Z"
    }
   },
   "outputs": [],
   "source": [
    "batch_size = 5\n",
    "src_len = 10\n",
    "\n",
    "src = torch.rand([batch_size, src_len])\n",
    "src"
   ]
  },
  {
   "cell_type": "code",
   "execution_count": null,
   "metadata": {
    "ExecuteTime": {
     "end_time": "2019-04-13T07:20:27.939827Z",
     "start_time": "2019-04-13T07:20:27.928349Z"
    }
   },
   "outputs": [],
   "source": [
    "pos = torch.arange(0, src.shape[1]).unsqueeze(0).repeat(src.shape[0], 1)\n",
    "pos"
   ]
  },
  {
   "cell_type": "markdown",
   "metadata": {},
   "source": [
    "# Teacher Forcing Mask Matrix|"
   ]
  },
  {
   "cell_type": "code",
   "execution_count": null,
   "metadata": {
    "ExecuteTime": {
     "end_time": "2019-04-15T02:51:50.921283Z",
     "start_time": "2019-04-15T02:51:50.919446Z"
    }
   },
   "outputs": [],
   "source": [
    "ratio = 0.7"
   ]
  },
  {
   "cell_type": "code",
   "execution_count": null,
   "metadata": {
    "ExecuteTime": {
     "end_time": "2019-04-15T02:51:51.016074Z",
     "start_time": "2019-04-15T02:51:51.009731Z"
    }
   },
   "outputs": [],
   "source": [
    "m = torch.tensor(\n",
    "    [1 if np.random.uniform() < ratio else 0 for _ in range(3 * 7)]).view(\n",
    "        3, 7)\n",
    "\n",
    "m"
   ]
  },
  {
   "cell_type": "code",
   "execution_count": null,
   "metadata": {
    "ExecuteTime": {
     "end_time": "2019-04-15T02:51:51.302961Z",
     "start_time": "2019-04-15T02:51:51.280872Z"
    }
   },
   "outputs": [],
   "source": [
    "1 - m"
   ]
  },
  {
   "cell_type": "code",
   "execution_count": null,
   "metadata": {
    "ExecuteTime": {
     "end_time": "2019-04-15T02:51:55.270181Z",
     "start_time": "2019-04-15T02:51:55.267431Z"
    }
   },
   "outputs": [],
   "source": [
    "m.view(-1)"
   ]
  },
  {
   "cell_type": "markdown",
   "metadata": {},
   "source": [
    "# CosineLoss"
   ]
  },
  {
   "cell_type": "code",
   "execution_count": null,
   "metadata": {
    "ExecuteTime": {
     "end_time": "2019-04-15T11:41:05.123177Z",
     "start_time": "2019-04-15T11:41:05.119260Z"
    }
   },
   "outputs": [],
   "source": [
    "# loss = torch.nn.CosineEmbeddingLoss()\n",
    "loss = torch.nn.L1Loss()"
   ]
  },
  {
   "cell_type": "code",
   "execution_count": null,
   "metadata": {
    "ExecuteTime": {
     "end_time": "2019-04-15T11:41:05.345483Z",
     "start_time": "2019-04-15T11:41:05.340605Z"
    }
   },
   "outputs": [],
   "source": [
    "s1 = torch.rand(2, 3, 4)\n",
    "s2 = torch.rand(2, 3, 4)"
   ]
  },
  {
   "cell_type": "code",
   "execution_count": null,
   "metadata": {
    "ExecuteTime": {
     "end_time": "2019-04-15T11:41:05.553962Z",
     "start_time": "2019-04-15T11:41:05.545382Z"
    }
   },
   "outputs": [],
   "source": [
    "s1"
   ]
  },
  {
   "cell_type": "code",
   "execution_count": null,
   "metadata": {
    "ExecuteTime": {
     "end_time": "2019-04-15T11:41:14.326341Z",
     "start_time": "2019-04-15T11:41:14.323347Z"
    }
   },
   "outputs": [],
   "source": [
    "s2 = torch.rand(2, 3, 4)\n",
    "# s2[1,:,:] = s1[1,:,:]\n",
    "s2"
   ]
  },
  {
   "cell_type": "code",
   "execution_count": null,
   "metadata": {
    "ExecuteTime": {
     "end_time": "2019-04-15T11:41:14.973808Z",
     "start_time": "2019-04-15T11:41:14.969533Z"
    }
   },
   "outputs": [],
   "source": [
    "target = torch.tensor([1.0])"
   ]
  },
  {
   "cell_type": "code",
   "execution_count": null,
   "metadata": {
    "ExecuteTime": {
     "end_time": "2019-04-15T11:41:15.252130Z",
     "start_time": "2019-04-15T11:41:15.243121Z"
    }
   },
   "outputs": [],
   "source": [
    "print(loss(s1, s2))"
   ]
  },
  {
   "cell_type": "markdown",
   "metadata": {},
   "source": [
    "# 测试交叉熵损失"
   ]
  },
  {
   "cell_type": "code",
   "execution_count": null,
   "metadata": {
    "ExecuteTime": {
     "end_time": "2019-04-16T01:09:56.779455Z",
     "start_time": "2019-04-16T01:09:56.774749Z"
    }
   },
   "outputs": [],
   "source": [
    "loss = torch.nn.CrossEntropyLoss(ignore_index=0)"
   ]
  },
  {
   "cell_type": "code",
   "execution_count": null,
   "metadata": {
    "ExecuteTime": {
     "end_time": "2019-04-16T01:10:12.755362Z",
     "start_time": "2019-04-16T01:10:12.727174Z"
    }
   },
   "outputs": [],
   "source": [
    "score = torch.rand(3, 4)\n",
    "score"
   ]
  },
  {
   "cell_type": "code",
   "execution_count": null,
   "metadata": {
    "ExecuteTime": {
     "end_time": "2019-04-16T01:12:04.171008Z",
     "start_time": "2019-04-16T01:12:04.166533Z"
    }
   },
   "outputs": [],
   "source": [
    "target = torch.tensor([0, 1, 2])\n",
    "target"
   ]
  },
  {
   "cell_type": "code",
   "execution_count": null,
   "metadata": {
    "ExecuteTime": {
     "end_time": "2019-04-16T01:12:04.891447Z",
     "start_time": "2019-04-16T01:12:04.889039Z"
    }
   },
   "outputs": [],
   "source": [
    "print(loss(score, target))"
   ]
  },
  {
   "cell_type": "code",
   "execution_count": null,
   "metadata": {
    "ExecuteTime": {
     "end_time": "2019-04-16T01:16:19.724292Z",
     "start_time": "2019-04-16T01:16:19.719375Z"
    }
   },
   "outputs": [],
   "source": [
    "print(F.softmax(score, dim=1))"
   ]
  },
  {
   "cell_type": "markdown",
   "metadata": {},
   "source": [
    "# 测试单词重复度"
   ]
  },
  {
   "cell_type": "code",
   "execution_count": null,
   "metadata": {
    "ExecuteTime": {
     "end_time": "2019-04-16T08:33:51.988230Z",
     "start_time": "2019-04-16T08:33:51.985001Z"
    }
   },
   "outputs": [],
   "source": [
    "train_predicted = torch.tensor([1, 4, 2, 6, 5, 1, 7, 9])\n",
    "train_predicted"
   ]
  },
  {
   "cell_type": "code",
   "execution_count": null,
   "metadata": {
    "ExecuteTime": {
     "end_time": "2019-04-16T08:33:52.243806Z",
     "start_time": "2019-04-16T08:33:52.238040Z"
    }
   },
   "outputs": [],
   "source": [
    "target = torch.tensor([5, 99, 124, 5123, 7, 5123, 5123, 6])\n",
    "target"
   ]
  },
  {
   "cell_type": "code",
   "execution_count": null,
   "metadata": {
    "ExecuteTime": {
     "end_time": "2019-04-16T08:33:52.498626Z",
     "start_time": "2019-04-16T08:33:52.492386Z"
    }
   },
   "outputs": [],
   "source": [
    "target = target.numpy()\n",
    "target"
   ]
  },
  {
   "cell_type": "code",
   "execution_count": null,
   "metadata": {
    "ExecuteTime": {
     "end_time": "2019-04-16T08:33:52.743889Z",
     "start_time": "2019-04-16T08:33:52.737916Z"
    }
   },
   "outputs": [],
   "source": [
    "target_set = set(target)\n",
    "target_set"
   ]
  },
  {
   "cell_type": "code",
   "execution_count": null,
   "metadata": {
    "ExecuteTime": {
     "end_time": "2019-04-16T08:33:53.041712Z",
     "start_time": "2019-04-16T08:33:53.037189Z"
    }
   },
   "outputs": [],
   "source": [
    "for item in train_predicted.numpy():\n",
    "    if item in target_set:\n",
    "        print(item)"
   ]
  },
  {
   "cell_type": "code",
   "execution_count": null,
   "metadata": {
    "ExecuteTime": {
     "end_time": "2019-04-16T15:30:22.248286Z",
     "start_time": "2019-04-16T15:30:22.214413Z"
    }
   },
   "outputs": [],
   "source": [
    "import numpy as np"
   ]
  },
  {
   "cell_type": "code",
   "execution_count": null,
   "metadata": {
    "ExecuteTime": {
     "end_time": "2019-04-16T15:32:25.134310Z",
     "start_time": "2019-04-16T15:32:25.123756Z"
    }
   },
   "outputs": [],
   "source": [
    "a = np.random.rand(3, 5)\n",
    "a"
   ]
  },
  {
   "cell_type": "code",
   "execution_count": null,
   "metadata": {
    "ExecuteTime": {
     "end_time": "2019-04-16T15:32:25.376114Z",
     "start_time": "2019-04-16T15:32:25.371312Z"
    }
   },
   "outputs": [],
   "source": [
    "b = a.reshape(-1)\n",
    "b"
   ]
  },
  {
   "cell_type": "markdown",
   "metadata": {},
   "source": [
    "# fairseq 创建mask\n",
    "- B:2\n",
    "- T:10\n",
    "- C:7"
   ]
  },
  {
   "cell_type": "code",
   "execution_count": null,
   "metadata": {
    "ExecuteTime": {
     "end_time": "2019-04-22T09:48:48.833367Z",
     "start_time": "2019-04-22T09:48:48.824703Z"
    }
   },
   "outputs": [],
   "source": [
    "src_token = torch.tensor(\n",
    "    [3, 4, 6, 2, 5, 9, 7, 1, 1, 1, 5, 6, 9, 10, 3, 1, 1, 1, 1, 1]).view(2, -1)\n",
    "src_token"
   ]
  },
  {
   "cell_type": "code",
   "execution_count": null,
   "metadata": {
    "ExecuteTime": {
     "end_time": "2019-04-22T09:48:49.646679Z",
     "start_time": "2019-04-22T09:48:49.644987Z"
    }
   },
   "outputs": [],
   "source": [
    "padding_idx = 1"
   ]
  },
  {
   "cell_type": "code",
   "execution_count": null,
   "metadata": {
    "ExecuteTime": {
     "end_time": "2019-04-22T09:48:50.123095Z",
     "start_time": "2019-04-22T09:48:50.113111Z"
    }
   },
   "outputs": [],
   "source": [
    "encoder_padding_mask = src_token.eq(padding_idx)\n",
    "encoder_padding_mask"
   ]
  },
  {
   "cell_type": "code",
   "execution_count": null,
   "metadata": {
    "ExecuteTime": {
     "end_time": "2019-04-22T09:48:51.225015Z",
     "start_time": "2019-04-22T09:48:51.183274Z"
    }
   },
   "outputs": [],
   "source": [
    "x = torch.rand(2, 10, 7)\n",
    "x"
   ]
  },
  {
   "cell_type": "code",
   "execution_count": null,
   "metadata": {
    "ExecuteTime": {
     "end_time": "2019-04-22T09:48:53.611169Z",
     "start_time": "2019-04-22T09:48:53.608314Z"
    }
   },
   "outputs": [],
   "source": [
    "encoder_padding_mask.unsqueeze(-1)"
   ]
  },
  {
   "cell_type": "code",
   "execution_count": null,
   "metadata": {
    "ExecuteTime": {
     "end_time": "2019-04-22T09:48:54.581295Z",
     "start_time": "2019-04-22T09:48:54.567482Z"
    }
   },
   "outputs": [],
   "source": [
    "print(x.size())\n",
    "print(encoder_padding_mask.size())\n",
    "x = x.masked_fill(encoder_padding_mask.unsqueeze(-1), 0)\n",
    "x"
   ]
  },
  {
   "cell_type": "markdown",
   "metadata": {},
   "source": [
    "# fairseq生成位置向量"
   ]
  },
  {
   "cell_type": "code",
   "execution_count": null,
   "metadata": {
    "ExecuteTime": {
     "end_time": "2019-04-23T13:12:51.530281Z",
     "start_time": "2019-04-23T13:12:51.524151Z"
    }
   },
   "outputs": [],
   "source": [
    "src_token = torch.tensor(\n",
    "    [3, 4, 6, 2, 5, 9, 7, 0, 0, 0, 5, 6, 9, 10, 3, 0, 0, 0, 0, 0]).view(2, -1).long()\n",
    "src_token"
   ]
  },
  {
   "cell_type": "code",
   "execution_count": null,
   "metadata": {
    "ExecuteTime": {
     "end_time": "2019-04-23T13:12:52.454058Z",
     "start_time": "2019-04-23T13:12:52.450584Z"
    }
   },
   "outputs": [],
   "source": [
    "mask = src_token.ne(0).long()\n",
    "mask"
   ]
  },
  {
   "cell_type": "code",
   "execution_count": null,
   "metadata": {
    "ExecuteTime": {
     "end_time": "2019-04-23T13:13:25.354119Z",
     "start_time": "2019-04-23T13:13:25.344016Z"
    }
   },
   "outputs": [],
   "source": [
    "torch.cumsum(mask, dim=1) * mask + 0"
   ]
  },
  {
   "cell_type": "code",
   "execution_count": null,
   "metadata": {
    "ExecuteTime": {
     "end_time": "2019-04-24T02:50:18.732546Z",
     "start_time": "2019-04-24T02:50:18.708092Z"
    }
   },
   "outputs": [],
   "source": [
    "B = 8\n",
    "Tg = 10\n",
    "decoder_input = torch.zeros(B,Tg)\n",
    "decoder_input"
   ]
  },
  {
   "cell_type": "code",
   "execution_count": null,
   "metadata": {
    "ExecuteTime": {
     "end_time": "2019-04-24T02:50:32.510701Z",
     "start_time": "2019-04-24T02:50:32.476160Z"
    }
   },
   "outputs": [],
   "source": [
    "decoder_input[:,0] = 3\n",
    "decoder_input"
   ]
  },
  {
   "cell_type": "code",
   "execution_count": null,
   "metadata": {},
   "outputs": [],
   "source": []
  }
 ],
 "metadata": {
  "kernelspec": {
   "display_name": "Python 3 (ipykernel)",
   "language": "python",
   "name": "python3"
  },
  "language_info": {
   "codemirror_mode": {
    "name": "ipython",
    "version": 3
   },
   "file_extension": ".py",
   "mimetype": "text/x-python",
   "name": "python",
   "nbconvert_exporter": "python",
   "pygments_lexer": "ipython3",
   "version": "3.8.2"
  },
  "latex_envs": {
   "LaTeX_envs_menu_present": true,
   "autoclose": false,
   "autocomplete": true,
   "bibliofile": "biblio.bib",
   "cite_by": "apalike",
   "current_citInitial": 1,
   "eqLabelWithNumbers": true,
   "eqNumInitial": 1,
   "hotkeys": {
    "equation": "Ctrl-E",
    "itemize": "Ctrl-I"
   },
   "labels_anchors": false,
   "latex_user_defs": false,
   "report_style_numbering": false,
   "user_envs_cfg": false
  },
  "toc": {
   "base_numbering": 1,
   "nav_menu": {},
   "number_sections": true,
   "sideBar": true,
   "skip_h1_title": false,
   "title_cell": "Table of Contents",
   "title_sidebar": "Contents",
   "toc_cell": false,
   "toc_position": {},
   "toc_section_display": true,
   "toc_window_display": false
  }
 },
 "nbformat": 4,
 "nbformat_minor": 2
}
