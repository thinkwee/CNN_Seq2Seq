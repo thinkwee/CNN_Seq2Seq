{
 "cells": [
  {
   "cell_type": "code",
   "execution_count": 1,
   "metadata": {
    "ExecuteTime": {
     "end_time": "2019-04-24T02:49:10.348597Z",
     "start_time": "2019-04-24T02:49:10.191790Z"
    }
   },
   "outputs": [],
   "source": [
    "import numpy as np\n",
    "import torch\n",
    "from torch import nn\n",
    "from torch.nn import functional as F\n",
    "import numpy as np\n",
    "import math"
   ]
  },
  {
   "cell_type": "markdown",
   "metadata": {},
   "source": [
    "# torch.index_select\n",
    "- 选择某一维度的tensor\n",
    "- 选择某一维度（切片）的tensor"
   ]
  },
  {
   "cell_type": "code",
   "execution_count": 2,
   "metadata": {
    "ExecuteTime": {
     "end_time": "2019-04-01T02:03:35.947918Z",
     "start_time": "2019-04-01T02:03:35.943398Z"
    }
   },
   "outputs": [],
   "source": [
    "a = [i for i in range(100)]"
   ]
  },
  {
   "cell_type": "code",
   "execution_count": 3,
   "metadata": {
    "ExecuteTime": {
     "end_time": "2019-04-01T02:03:36.296691Z",
     "start_time": "2019-04-01T02:03:36.294960Z"
    }
   },
   "outputs": [],
   "source": [
    "a = np.asarray(a)"
   ]
  },
  {
   "cell_type": "code",
   "execution_count": 4,
   "metadata": {
    "ExecuteTime": {
     "end_time": "2019-04-01T02:03:36.684290Z",
     "start_time": "2019-04-01T02:03:36.662770Z"
    }
   },
   "outputs": [
    {
     "data": {
      "text/plain": [
       "tensor([[[ 0,  1,  2,  3,  4,  5,  6,  7,  8,  9],\n",
       "         [10, 11, 12, 13, 14, 15, 16, 17, 18, 19]],\n",
       "\n",
       "        [[20, 21, 22, 23, 24, 25, 26, 27, 28, 29],\n",
       "         [30, 31, 32, 33, 34, 35, 36, 37, 38, 39]],\n",
       "\n",
       "        [[40, 41, 42, 43, 44, 45, 46, 47, 48, 49],\n",
       "         [50, 51, 52, 53, 54, 55, 56, 57, 58, 59]],\n",
       "\n",
       "        [[60, 61, 62, 63, 64, 65, 66, 67, 68, 69],\n",
       "         [70, 71, 72, 73, 74, 75, 76, 77, 78, 79]],\n",
       "\n",
       "        [[80, 81, 82, 83, 84, 85, 86, 87, 88, 89],\n",
       "         [90, 91, 92, 93, 94, 95, 96, 97, 98, 99]]])"
      ]
     },
     "execution_count": 4,
     "metadata": {},
     "output_type": "execute_result"
    }
   ],
   "source": [
    "tensor = torch.from_numpy(a).view(5, 2, 10)\n",
    "tensor"
   ]
  },
  {
   "cell_type": "code",
   "execution_count": 5,
   "metadata": {
    "ExecuteTime": {
     "end_time": "2019-04-01T02:03:37.359819Z",
     "start_time": "2019-04-01T02:03:37.358012Z"
    }
   },
   "outputs": [],
   "source": [
    "index = torch.tensor([0])"
   ]
  },
  {
   "cell_type": "code",
   "execution_count": 6,
   "metadata": {
    "ExecuteTime": {
     "end_time": "2019-04-01T02:03:38.304343Z",
     "start_time": "2019-04-01T02:03:38.302187Z"
    }
   },
   "outputs": [
    {
     "name": "stdout",
     "output_type": "stream",
     "text": [
      "tensor([0])\n"
     ]
    }
   ],
   "source": [
    "print(index)"
   ]
  },
  {
   "cell_type": "code",
   "execution_count": 7,
   "metadata": {
    "ExecuteTime": {
     "end_time": "2019-04-01T02:03:38.781936Z",
     "start_time": "2019-04-01T02:03:38.775023Z"
    }
   },
   "outputs": [],
   "source": [
    "selected_tensor = torch.index_select(tensor, -2, index)"
   ]
  },
  {
   "cell_type": "code",
   "execution_count": 8,
   "metadata": {
    "ExecuteTime": {
     "end_time": "2019-04-01T02:04:03.445654Z",
     "start_time": "2019-04-01T02:04:03.442845Z"
    }
   },
   "outputs": [
    {
     "name": "stdout",
     "output_type": "stream",
     "text": [
      "tensor([[[ 0,  1,  2,  3,  4,  5,  6,  7,  8,  9]],\n",
      "\n",
      "        [[20, 21, 22, 23, 24, 25, 26, 27, 28, 29]],\n",
      "\n",
      "        [[40, 41, 42, 43, 44, 45, 46, 47, 48, 49]],\n",
      "\n",
      "        [[60, 61, 62, 63, 64, 65, 66, 67, 68, 69]],\n",
      "\n",
      "        [[80, 81, 82, 83, 84, 85, 86, 87, 88, 89]]])\n"
     ]
    }
   ],
   "source": [
    "print(selected_tensor)"
   ]
  },
  {
   "cell_type": "code",
   "execution_count": 9,
   "metadata": {
    "ExecuteTime": {
     "end_time": "2019-04-01T02:04:04.672699Z",
     "start_time": "2019-04-01T02:04:04.670849Z"
    }
   },
   "outputs": [],
   "source": [
    "x = torch.rand(3, 4)"
   ]
  },
  {
   "cell_type": "code",
   "execution_count": 10,
   "metadata": {
    "ExecuteTime": {
     "end_time": "2019-04-01T02:04:05.347130Z",
     "start_time": "2019-04-01T02:04:05.326890Z"
    }
   },
   "outputs": [
    {
     "data": {
      "text/plain": [
       "tensor([[0.0697, 0.2385, 0.9623, 0.0611],\n",
       "        [0.0834, 0.1542, 0.1740, 0.9990],\n",
       "        [0.7038, 0.5267, 0.4194, 0.4288]])"
      ]
     },
     "execution_count": 10,
     "metadata": {},
     "output_type": "execute_result"
    }
   ],
   "source": [
    "x"
   ]
  },
  {
   "cell_type": "code",
   "execution_count": 11,
   "metadata": {
    "ExecuteTime": {
     "end_time": "2019-04-01T02:04:07.168652Z",
     "start_time": "2019-04-01T02:04:07.166769Z"
    }
   },
   "outputs": [],
   "source": [
    "indices = torch.tensor([0, 2])"
   ]
  },
  {
   "cell_type": "code",
   "execution_count": 12,
   "metadata": {
    "ExecuteTime": {
     "end_time": "2019-04-01T02:04:07.519772Z",
     "start_time": "2019-04-01T02:04:07.515790Z"
    }
   },
   "outputs": [
    {
     "data": {
      "text/plain": [
       "tensor([[0.0697, 0.2385, 0.9623, 0.0611],\n",
       "        [0.7038, 0.5267, 0.4194, 0.4288]])"
      ]
     },
     "execution_count": 12,
     "metadata": {},
     "output_type": "execute_result"
    }
   ],
   "source": [
    "torch.index_select(x, 0, indices)"
   ]
  },
  {
   "cell_type": "markdown",
   "metadata": {},
   "source": [
    "# nn.Softmax\n",
    "- 指定某一维度进行softmax"
   ]
  },
  {
   "cell_type": "code",
   "execution_count": 13,
   "metadata": {
    "ExecuteTime": {
     "end_time": "2019-04-01T02:04:27.362039Z",
     "start_time": "2019-04-01T02:04:27.359086Z"
    }
   },
   "outputs": [
    {
     "data": {
      "text/plain": [
       "tensor([[[0.7071, 0.9053, 0.4256, 0.5803],\n",
       "         [0.5855, 0.6809, 0.7694, 0.9182],\n",
       "         [0.1617, 0.6889, 0.7708, 0.4785]],\n",
       "\n",
       "        [[0.4800, 0.3766, 0.6771, 0.2698],\n",
       "         [0.8760, 0.6773, 0.2868, 0.2355],\n",
       "         [0.5167, 0.9376, 0.8107, 0.2526]]])"
      ]
     },
     "execution_count": 13,
     "metadata": {},
     "output_type": "execute_result"
    }
   ],
   "source": [
    "t = torch.rand(2, 3, 4)\n",
    "t"
   ]
  },
  {
   "cell_type": "code",
   "execution_count": 14,
   "metadata": {
    "ExecuteTime": {
     "end_time": "2019-04-01T02:04:30.187465Z",
     "start_time": "2019-04-01T02:04:30.175587Z"
    }
   },
   "outputs": [
    {
     "data": {
      "text/plain": [
       "tensor([[[0.2594, 0.3163, 0.1958, 0.2285],\n",
       "         [0.2129, 0.2342, 0.2559, 0.2970],\n",
       "         [0.1693, 0.2869, 0.3113, 0.2324]],\n",
       "\n",
       "        [[0.2545, 0.2295, 0.3099, 0.2062],\n",
       "         [0.3446, 0.2825, 0.1912, 0.1816],\n",
       "         [0.2158, 0.3288, 0.2896, 0.1657]]])"
      ]
     },
     "execution_count": 14,
     "metadata": {},
     "output_type": "execute_result"
    }
   ],
   "source": [
    "softmax_layer = nn.Softmax(dim=2)\n",
    "softmax_layer(t)"
   ]
  },
  {
   "cell_type": "markdown",
   "metadata": {},
   "source": [
    "# 生成mask tensor\n",
    "- 生成下三角矩阵"
   ]
  },
  {
   "cell_type": "code",
   "execution_count": 15,
   "metadata": {
    "ExecuteTime": {
     "end_time": "2019-04-01T02:05:16.172976Z",
     "start_time": "2019-04-01T02:05:16.161037Z"
    }
   },
   "outputs": [
    {
     "data": {
      "text/plain": [
       "torch.Size([2, 10, 10])"
      ]
     },
     "execution_count": 15,
     "metadata": {},
     "output_type": "execute_result"
    }
   ],
   "source": [
    "mask_tensor = torch.ones(0)\n",
    "batch_size = 2\n",
    "len_sentence = 10\n",
    "mask = torch.ones(len_sentence)\n",
    "for j in range(batch_size):\n",
    "    for i in range(1, len_sentence + 1):\n",
    "        masked = mask.clone()\n",
    "        masked[i:] = 0\n",
    "        mask_tensor = torch.cat((mask_tensor, masked))\n",
    "mask_tensor = mask_tensor.contiguous().view(batch_size, len_sentence, -1)\n",
    "mask_tensor.size()"
   ]
  },
  {
   "cell_type": "code",
   "execution_count": 16,
   "metadata": {
    "ExecuteTime": {
     "end_time": "2019-04-01T02:05:16.798605Z",
     "start_time": "2019-04-01T02:05:16.793465Z"
    }
   },
   "outputs": [
    {
     "name": "stdout",
     "output_type": "stream",
     "text": [
      "tensor([[[1., 0., 0., 0., 0., 0., 0., 0., 0., 0.],\n",
      "         [1., 1., 0., 0., 0., 0., 0., 0., 0., 0.],\n",
      "         [1., 1., 1., 0., 0., 0., 0., 0., 0., 0.],\n",
      "         [1., 1., 1., 1., 0., 0., 0., 0., 0., 0.],\n",
      "         [1., 1., 1., 1., 1., 0., 0., 0., 0., 0.],\n",
      "         [1., 1., 1., 1., 1., 1., 0., 0., 0., 0.],\n",
      "         [1., 1., 1., 1., 1., 1., 1., 0., 0., 0.],\n",
      "         [1., 1., 1., 1., 1., 1., 1., 1., 0., 0.],\n",
      "         [1., 1., 1., 1., 1., 1., 1., 1., 1., 0.],\n",
      "         [1., 1., 1., 1., 1., 1., 1., 1., 1., 1.]],\n",
      "\n",
      "        [[1., 0., 0., 0., 0., 0., 0., 0., 0., 0.],\n",
      "         [1., 1., 0., 0., 0., 0., 0., 0., 0., 0.],\n",
      "         [1., 1., 1., 0., 0., 0., 0., 0., 0., 0.],\n",
      "         [1., 1., 1., 1., 0., 0., 0., 0., 0., 0.],\n",
      "         [1., 1., 1., 1., 1., 0., 0., 0., 0., 0.],\n",
      "         [1., 1., 1., 1., 1., 1., 0., 0., 0., 0.],\n",
      "         [1., 1., 1., 1., 1., 1., 1., 0., 0., 0.],\n",
      "         [1., 1., 1., 1., 1., 1., 1., 1., 0., 0.],\n",
      "         [1., 1., 1., 1., 1., 1., 1., 1., 1., 0.],\n",
      "         [1., 1., 1., 1., 1., 1., 1., 1., 1., 1.]]])\n"
     ]
    }
   ],
   "source": [
    "print(mask_tensor)"
   ]
  },
  {
   "cell_type": "code",
   "execution_count": 17,
   "metadata": {
    "ExecuteTime": {
     "end_time": "2019-04-01T02:05:29.411211Z",
     "start_time": "2019-04-01T02:05:29.408840Z"
    }
   },
   "outputs": [
    {
     "data": {
      "text/plain": [
       "tensor([0, 2])"
      ]
     },
     "execution_count": 17,
     "metadata": {},
     "output_type": "execute_result"
    }
   ],
   "source": [
    "indices"
   ]
  },
  {
   "cell_type": "code",
   "execution_count": 18,
   "metadata": {
    "ExecuteTime": {
     "end_time": "2019-04-01T02:05:29.802511Z",
     "start_time": "2019-04-01T02:05:29.787134Z"
    }
   },
   "outputs": [
    {
     "name": "stdout",
     "output_type": "stream",
     "text": [
      "torch.Size([2, 10])\n",
      "torch.Size([2, 10])\n",
      "torch.Size([2, 10])\n",
      "torch.Size([2, 10])\n",
      "torch.Size([2, 10])\n",
      "torch.Size([2, 10])\n",
      "torch.Size([2, 10])\n",
      "torch.Size([2, 10])\n",
      "torch.Size([2, 10])\n",
      "torch.Size([2, 10])\n"
     ]
    }
   ],
   "source": [
    "for idx in range(len_sentence):\n",
    "    indices = torch.tensor([idx])\n",
    "    print(torch.index_select(mask_tensor, 1, indices).squeeze().size())"
   ]
  },
  {
   "cell_type": "markdown",
   "metadata": {},
   "source": [
    "# CrossEntropyLoss与LogSoftmax+NLLLoss"
   ]
  },
  {
   "cell_type": "code",
   "execution_count": 20,
   "metadata": {
    "ExecuteTime": {
     "end_time": "2019-04-01T02:06:39.003439Z",
     "start_time": "2019-04-01T02:06:38.988463Z"
    }
   },
   "outputs": [
    {
     "name": "stdout",
     "output_type": "stream",
     "text": [
      "tensor([[-1.0566,  1.9345,  1.3436,  0.3481,  0.9431],\n",
      "        [ 1.1675, -1.7566, -0.0121,  0.2475,  0.6680],\n",
      "        [-0.6781, -1.4774, -0.5253,  0.3409, -1.1188]], requires_grad=True)\n",
      "tensor([0, 3, 3])\n",
      "tensor(2.1097, grad_fn=<NllLossBackward>)\n"
     ]
    }
   ],
   "source": [
    "loss = nn.CrossEntropyLoss()\n",
    "input = torch.randn(3, 5, requires_grad=True)\n",
    "target = torch.empty(3, dtype=torch.long).random_(5)\n",
    "print(input)\n",
    "print(target)\n",
    "output = loss(input, target)\n",
    "print(output)\n",
    "output.backward()"
   ]
  },
  {
   "cell_type": "code",
   "execution_count": 22,
   "metadata": {
    "ExecuteTime": {
     "end_time": "2019-04-01T02:06:55.866945Z",
     "start_time": "2019-04-01T02:06:55.862557Z"
    }
   },
   "outputs": [
    {
     "name": "stdout",
     "output_type": "stream",
     "text": [
      "tensor([[-1.0592, -0.0566, -1.2997,  1.2341, -0.0224],\n",
      "        [-1.4273,  3.8621,  0.1187, -1.7831,  1.5065],\n",
      "        [ 0.4038,  0.4911,  1.7940,  1.5893, -2.5623]], requires_grad=True)\n",
      "tensor([1, 0, 4])\n",
      "tensor([[-2.8472, -1.8445, -3.0877, -0.5539, -1.8103],\n",
      "        [-5.4091, -0.1196, -3.8630, -5.7649, -2.4753],\n",
      "        [-2.2440, -2.1567, -0.8538, -1.0585, -5.2100]],\n",
      "       grad_fn=<LogSoftmaxBackward>)\n",
      "tensor(4.1545, grad_fn=<NllLossBackward>)\n"
     ]
    }
   ],
   "source": [
    "m = nn.LogSoftmax(dim=1)\n",
    "loss = nn.NLLLoss()\n",
    "# input is of size N x C = 3 x 5\n",
    "input = torch.randn(3, 5, requires_grad=True)\n",
    "# each element in target has to have 0 <= value < C\n",
    "target = torch.tensor([1, 0, 4])\n",
    "print(input)\n",
    "print(target)\n",
    "print(m(input))\n",
    "output = loss(m(input), target)\n",
    "print(output)\n",
    "output.backward()"
   ]
  },
  {
   "cell_type": "markdown",
   "metadata": {
    "ExecuteTime": {
     "end_time": "2019-04-01T02:08:55.865697Z",
     "start_time": "2019-04-01T02:08:55.863941Z"
    }
   },
   "source": [
    "# argmax"
   ]
  },
  {
   "cell_type": "code",
   "execution_count": 30,
   "metadata": {
    "ExecuteTime": {
     "end_time": "2019-04-01T02:09:00.503684Z",
     "start_time": "2019-04-01T02:09:00.500699Z"
    }
   },
   "outputs": [
    {
     "data": {
      "text/plain": [
       "tensor([[0.8753, 0.5491, 0.0331, 0.4996],\n",
       "        [0.9131, 0.0492, 0.0030, 0.3543],\n",
       "        [0.2314, 0.9901, 0.4048, 0.7744]])"
      ]
     },
     "execution_count": 30,
     "metadata": {},
     "output_type": "execute_result"
    }
   ],
   "source": [
    "a = torch.rand(3, 4)\n",
    "a"
   ]
  },
  {
   "cell_type": "code",
   "execution_count": 31,
   "metadata": {
    "ExecuteTime": {
     "end_time": "2019-04-01T02:09:00.916689Z",
     "start_time": "2019-04-01T02:09:00.908074Z"
    }
   },
   "outputs": [
    {
     "name": "stdout",
     "output_type": "stream",
     "text": [
      "(tensor([0.9131, 0.9901, 0.4048, 0.7744]), tensor([1, 2, 2, 2]))\n"
     ]
    }
   ],
   "source": [
    "print(torch.max(a, 0))"
   ]
  },
  {
   "cell_type": "code",
   "execution_count": 32,
   "metadata": {
    "ExecuteTime": {
     "end_time": "2019-04-01T02:09:01.364760Z",
     "start_time": "2019-04-01T02:09:01.355989Z"
    }
   },
   "outputs": [
    {
     "name": "stdout",
     "output_type": "stream",
     "text": [
      "(tensor([0.8753, 0.9131, 0.9901]), tensor([0, 0, 1]))\n"
     ]
    }
   ],
   "source": [
    "print(torch.max(a, 1))"
   ]
  },
  {
   "cell_type": "code",
   "execution_count": 33,
   "metadata": {
    "ExecuteTime": {
     "end_time": "2019-04-01T02:09:03.399419Z",
     "start_time": "2019-04-01T02:09:03.396836Z"
    }
   },
   "outputs": [
    {
     "name": "stdout",
     "output_type": "stream",
     "text": [
      "tensor([0, 0, 1])\n"
     ]
    }
   ],
   "source": [
    "value, index = torch.max(a, 1)\n",
    "print(index)"
   ]
  },
  {
   "cell_type": "code",
   "execution_count": 3,
   "metadata": {
    "ExecuteTime": {
     "end_time": "2019-04-13T08:39:59.377585Z",
     "start_time": "2019-04-13T08:39:59.374486Z"
    }
   },
   "outputs": [
    {
     "data": {
      "text/plain": [
       "tensor([[[0.5779, 0.0228, 0.1687, 0.9010, 0.6702],\n",
       "         [0.6086, 0.5309, 0.1080, 0.0668, 0.3812],\n",
       "         [0.0454, 0.3512, 0.0306, 0.5432, 0.9805],\n",
       "         [0.5338, 0.8336, 0.3730, 0.3329, 0.0814]],\n",
       "\n",
       "        [[0.5210, 0.3601, 0.8037, 0.7082, 0.2501],\n",
       "         [0.4944, 0.2183, 0.3825, 0.9565, 0.6144],\n",
       "         [0.3886, 0.0607, 0.6560, 0.5447, 0.4024],\n",
       "         [0.6622, 0.0506, 0.6926, 0.3241, 0.0444]],\n",
       "\n",
       "        [[0.3918, 0.0719, 0.7239, 0.0626, 0.2118],\n",
       "         [0.7054, 0.2246, 0.0483, 0.5243, 0.4974],\n",
       "         [0.7835, 0.7158, 0.3009, 0.4030, 0.7576],\n",
       "         [0.5373, 0.7899, 0.9094, 0.5904, 0.2565]]])"
      ]
     },
     "execution_count": 3,
     "metadata": {},
     "output_type": "execute_result"
    }
   ],
   "source": [
    "test = torch.rand(3, 4, 5)\n",
    "test"
   ]
  },
  {
   "cell_type": "code",
   "execution_count": 6,
   "metadata": {
    "ExecuteTime": {
     "end_time": "2019-04-13T08:40:44.338745Z",
     "start_time": "2019-04-13T08:40:44.326056Z"
    }
   },
   "outputs": [
    {
     "data": {
      "text/plain": [
       "tensor([[3, 0, 4, 1],\n",
       "        [2, 3, 2, 2],\n",
       "        [2, 0, 0, 2]])"
      ]
     },
     "execution_count": 6,
     "metadata": {},
     "output_type": "execute_result"
    }
   ],
   "source": [
    "test_max = torch.max(test, 2)[1]\n",
    "test_max"
   ]
  },
  {
   "cell_type": "markdown",
   "metadata": {},
   "source": [
    "# torch.cat\n",
    "- 拼接"
   ]
  },
  {
   "cell_type": "code",
   "execution_count": 34,
   "metadata": {
    "ExecuteTime": {
     "end_time": "2019-04-01T02:09:36.272455Z",
     "start_time": "2019-04-01T02:09:36.267536Z"
    }
   },
   "outputs": [
    {
     "data": {
      "text/plain": [
       "tensor([[0.8450],\n",
       "        [0.8190],\n",
       "        [0.2952]])"
      ]
     },
     "execution_count": 34,
     "metadata": {},
     "output_type": "execute_result"
    }
   ],
   "source": [
    "b = torch.rand(3, 1)\n",
    "b"
   ]
  },
  {
   "cell_type": "code",
   "execution_count": 35,
   "metadata": {
    "ExecuteTime": {
     "end_time": "2019-04-01T02:09:37.072684Z",
     "start_time": "2019-04-01T02:09:37.067475Z"
    }
   },
   "outputs": [
    {
     "data": {
      "text/plain": [
       "tensor([[0.8753, 0.5491, 0.0331, 0.4996, 0.8450],\n",
       "        [0.9131, 0.0492, 0.0030, 0.3543, 0.8190],\n",
       "        [0.2314, 0.9901, 0.4048, 0.7744, 0.2952]])"
      ]
     },
     "execution_count": 35,
     "metadata": {},
     "output_type": "execute_result"
    }
   ],
   "source": [
    "a = torch.cat([a, b], dim=1)\n",
    "a"
   ]
  },
  {
   "cell_type": "markdown",
   "metadata": {},
   "source": [
    "# 测试mask tensor"
   ]
  },
  {
   "cell_type": "code",
   "execution_count": 36,
   "metadata": {
    "ExecuteTime": {
     "end_time": "2019-04-01T02:09:59.217567Z",
     "start_time": "2019-04-01T02:09:59.212321Z"
    }
   },
   "outputs": [],
   "source": [
    "BATCH_SIZE = 3\n",
    "TGT_LENGTH = 5"
   ]
  },
  {
   "cell_type": "code",
   "execution_count": 37,
   "metadata": {
    "ExecuteTime": {
     "end_time": "2019-04-01T02:10:00.216725Z",
     "start_time": "2019-04-01T02:10:00.213663Z"
    }
   },
   "outputs": [],
   "source": [
    "def create_mask_tensor():\n",
    "    mask_tensor = torch.ones(0)\n",
    "    batch_size = BATCH_SIZE\n",
    "    len_sentence = TGT_LENGTH\n",
    "    mask = torch.ones(len_sentence)\n",
    "    for _ in range(batch_size):\n",
    "        for i in range(1, len_sentence + 1):\n",
    "            masked = mask.clone()\n",
    "            masked[i:] = 0\n",
    "            mask_tensor = torch.cat((mask_tensor, masked))\n",
    "    mask_tensor = mask_tensor.contiguous().view(batch_size, len_sentence, -1)\n",
    "    return mask_tensor.long()"
   ]
  },
  {
   "cell_type": "code",
   "execution_count": 38,
   "metadata": {
    "ExecuteTime": {
     "end_time": "2019-04-01T02:10:02.103528Z",
     "start_time": "2019-04-01T02:10:02.101524Z"
    }
   },
   "outputs": [],
   "source": [
    "mask_tensor = create_mask_tensor()"
   ]
  },
  {
   "cell_type": "code",
   "execution_count": 39,
   "metadata": {
    "ExecuteTime": {
     "end_time": "2019-04-01T02:54:24.341707Z",
     "start_time": "2019-04-01T02:54:24.338599Z"
    }
   },
   "outputs": [
    {
     "data": {
      "text/plain": [
       "tensor([[0.5252, 0.9991, 0.3711, 0.2532, 0.1747],\n",
       "        [0.4516, 0.6943, 0.3076, 0.4729, 0.3486],\n",
       "        [0.7473, 0.0019, 0.6713, 0.1961, 0.2698]])"
      ]
     },
     "execution_count": 39,
     "metadata": {},
     "output_type": "execute_result"
    }
   ],
   "source": [
    "decoder_input = torch.rand(BATCH_SIZE, TGT_LENGTH)\n",
    "decoder_input"
   ]
  },
  {
   "cell_type": "code",
   "execution_count": 40,
   "metadata": {
    "ExecuteTime": {
     "end_time": "2019-04-01T02:54:24.816127Z",
     "start_time": "2019-04-01T02:54:24.805283Z"
    }
   },
   "outputs": [
    {
     "data": {
      "text/plain": [
       "tensor([[0.3663],\n",
       "        [0.6347],\n",
       "        [0.0095]])"
      ]
     },
     "execution_count": 40,
     "metadata": {},
     "output_type": "execute_result"
    }
   ],
   "source": [
    "decoder_output = torch.rand(BATCH_SIZE * 1).contiguous().view(-1, 1)\n",
    "decoder_output"
   ]
  },
  {
   "cell_type": "code",
   "execution_count": 41,
   "metadata": {
    "ExecuteTime": {
     "end_time": "2019-04-01T02:54:31.842260Z",
     "start_time": "2019-04-01T02:54:31.839543Z"
    }
   },
   "outputs": [
    {
     "data": {
      "text/plain": [
       "tensor([[0.5252, 0.3663, 0.3711, 0.2532, 0.1747],\n",
       "        [0.4516, 0.6347, 0.3076, 0.4729, 0.3486],\n",
       "        [0.7473, 0.0095, 0.6713, 0.1961, 0.2698]])"
      ]
     },
     "execution_count": 41,
     "metadata": {},
     "output_type": "execute_result"
    }
   ],
   "source": [
    "decoder_input[:, 1:2] = decoder_output\n",
    "decoder_input"
   ]
  },
  {
   "cell_type": "code",
   "execution_count": 42,
   "metadata": {
    "ExecuteTime": {
     "end_time": "2019-04-01T02:54:46.517348Z",
     "start_time": "2019-04-01T02:54:46.514272Z"
    }
   },
   "outputs": [
    {
     "data": {
      "text/plain": [
       "tensor([[0.5252, 0.3663, 0.3711],\n",
       "        [0.4516, 0.6347, 0.3076],\n",
       "        [0.7473, 0.0095, 0.6713]])"
      ]
     },
     "execution_count": 42,
     "metadata": {},
     "output_type": "execute_result"
    }
   ],
   "source": [
    "decoder_input[:, 0:3]"
   ]
  },
  {
   "cell_type": "code",
   "execution_count": 43,
   "metadata": {
    "ExecuteTime": {
     "end_time": "2019-04-01T02:54:47.539073Z",
     "start_time": "2019-04-01T02:54:47.535250Z"
    }
   },
   "outputs": [
    {
     "name": "stdout",
     "output_type": "stream",
     "text": [
      "tensor([[0.5252, 0.0000, 0.0000, 0.0000, 0.0000],\n",
      "        [0.4516, 0.0000, 0.0000, 0.0000, 0.0000],\n",
      "        [0.7473, 0.0000, 0.0000, 0.0000, 0.0000]])\n",
      "tensor([[0.5252, 0.3663, 0.0000, 0.0000, 0.0000],\n",
      "        [0.4516, 0.6347, 0.0000, 0.0000, 0.0000],\n",
      "        [0.7473, 0.0095, 0.0000, 0.0000, 0.0000]])\n",
      "tensor([[0.5252, 0.3663, 0.3711, 0.0000, 0.0000],\n",
      "        [0.4516, 0.6347, 0.3076, 0.0000, 0.0000],\n",
      "        [0.7473, 0.0095, 0.6713, 0.0000, 0.0000]])\n",
      "tensor([[0.5252, 0.3663, 0.3711, 0.2532, 0.0000],\n",
      "        [0.4516, 0.6347, 0.3076, 0.4729, 0.0000],\n",
      "        [0.7473, 0.0095, 0.6713, 0.1961, 0.0000]])\n",
      "tensor([[0.5252, 0.3663, 0.3711, 0.2532, 0.1747],\n",
      "        [0.4516, 0.6347, 0.3076, 0.4729, 0.3486],\n",
      "        [0.7473, 0.0095, 0.6713, 0.1961, 0.2698]])\n"
     ]
    }
   ],
   "source": [
    "for i in range(TGT_LENGTH):\n",
    "    mask_cur = mask_tensor[:, i].squeeze().float()\n",
    "    print(torch.mul(decoder_input, mask_cur))"
   ]
  },
  {
   "cell_type": "markdown",
   "metadata": {},
   "source": [
    "# 测试SOS符号"
   ]
  },
  {
   "cell_type": "code",
   "execution_count": 44,
   "metadata": {
    "ExecuteTime": {
     "end_time": "2019-04-01T02:55:18.363271Z",
     "start_time": "2019-04-01T02:55:18.357944Z"
    }
   },
   "outputs": [
    {
     "name": "stdout",
     "output_type": "stream",
     "text": [
      "tensor([[3, 0, 0, 0, 0],\n",
      "        [3, 0, 0, 0, 0],\n",
      "        [3, 0, 0, 0, 0]])\n"
     ]
    }
   ],
   "source": [
    "decoder_input = torch.tensor(\n",
    "    [0 for _ in range(TGT_LENGTH * BATCH_SIZE)]).contiguous().view(\n",
    "        BATCH_SIZE, TGT_LENGTH)\n",
    "decoder_input[:, 0] = torch.tensor([3 for _ in range(BATCH_SIZE)])\n",
    "print(decoder_input)"
   ]
  },
  {
   "cell_type": "markdown",
   "metadata": {},
   "source": [
    "# 测试mask convolution(casual convolution)"
   ]
  },
  {
   "cell_type": "code",
   "execution_count": 56,
   "metadata": {
    "ExecuteTime": {
     "end_time": "2019-04-01T02:58:13.935915Z",
     "start_time": "2019-04-01T02:58:13.930621Z"
    }
   },
   "outputs": [],
   "source": [
    "class MaskConv1d(nn.Conv1d):\n",
    "    \"\"\"Masked Conv Kernel for Temporal Convolution\"\"\"\n",
    "\n",
    "    def __init__(self, in_channels, out_channels, kernel_size, stride, padding,\n",
    "                 dilation):\n",
    "        super().__init__(in_channels, out_channels, kernel_size, stride,\n",
    "                         padding, dilation)\n",
    "        self.mask = torch.tensor([\n",
    "            0 for _ in range(self.out_channels * self.in_channels *\n",
    "                             self.kernel_size[0])\n",
    "        ])\n",
    "        for idx in range(self.out_channels * self.in_channels *\n",
    "                         self.kernel_size[0])[::self.kernel_size[0]]:\n",
    "            for jdx in range(1 + self.kernel_size[0] // 2):\n",
    "                self.mask[idx + jdx] = 1\n",
    "        self.mask = self.mask.contiguous().view(\n",
    "            self.out_channels, self.in_channels, self.kernel_size[0]).float()\n",
    "\n",
    "    def forward(self, x):\n",
    "        return F.conv1d(\n",
    "            input=x,\n",
    "            weight=self.weight * self.mask,\n",
    "            stride=self.stride,\n",
    "            padding=self.padding,\n",
    "            dilation=self.dilation)\n",
    "\n",
    "    def show_mask(self):\n",
    "        return self.mask\n",
    "\n",
    "    def show_kernel(self):\n",
    "        return self.weight\n",
    "\n",
    "    def show_masked_kernel(self):\n",
    "        return self.mask * self.weight"
   ]
  },
  {
   "cell_type": "code",
   "execution_count": 57,
   "metadata": {
    "ExecuteTime": {
     "end_time": "2019-04-01T02:58:14.141515Z",
     "start_time": "2019-04-01T02:58:14.133271Z"
    }
   },
   "outputs": [],
   "source": [
    "def MaskedWeightNormalizedConv1d(in_channels, out_channels, kernel_size,\n",
    "                                 stride, padding, dropout, dilation):\n",
    "    \"\"\"Weight-normalized Conv1d layer\"\"\"\n",
    "    m = MaskConv1d(in_channels, out_channels, kernel_size, stride, padding,\n",
    "                   dilation)\n",
    "    std = math.sqrt((4 * (1.0 - dropout)) / (m.kernel_size[0] * in_channels))\n",
    "    nn.init.normal_(m.weight, mean=0, std=std)\n",
    "    nn.init.constant_(m.bias, 0)\n",
    "    return nn.utils.weight_norm(m, dim=2)"
   ]
  },
  {
   "cell_type": "code",
   "execution_count": 70,
   "metadata": {
    "ExecuteTime": {
     "end_time": "2019-04-01T02:58:57.245333Z",
     "start_time": "2019-04-01T02:58:57.240863Z"
    }
   },
   "outputs": [],
   "source": [
    "in_channels = 1\n",
    "out_channels = 1\n",
    "kernel_size = 5\n",
    "stride = 1\n",
    "padding = 2\n",
    "dropout = 0\n",
    "dilation = 1\n",
    "length = 5\n",
    "batch = 2"
   ]
  },
  {
   "cell_type": "code",
   "execution_count": 71,
   "metadata": {
    "ExecuteTime": {
     "end_time": "2019-04-01T02:58:57.419660Z",
     "start_time": "2019-04-01T02:58:57.412501Z"
    }
   },
   "outputs": [],
   "source": [
    "test_conv = MaskedWeightNormalizedConv1d(\n",
    "    in_channels, out_channels, kernel_size, stride, padding, dropout, dilation)"
   ]
  },
  {
   "cell_type": "code",
   "execution_count": 72,
   "metadata": {
    "ExecuteTime": {
     "end_time": "2019-04-01T02:58:57.649329Z",
     "start_time": "2019-04-01T02:58:57.637139Z"
    }
   },
   "outputs": [
    {
     "data": {
      "text/plain": [
       "tensor([[[0.9078, 0.6385, 0.4975, 0.5884, 0.2787]],\n",
       "\n",
       "        [[0.2476, 0.4939, 0.1485, 0.5653, 0.7630]]])"
      ]
     },
     "execution_count": 72,
     "metadata": {},
     "output_type": "execute_result"
    }
   ],
   "source": [
    "test_input = torch.rand(batch, in_channels, length)\n",
    "test_input"
   ]
  },
  {
   "cell_type": "code",
   "execution_count": 73,
   "metadata": {
    "ExecuteTime": {
     "end_time": "2019-04-01T02:58:58.127348Z",
     "start_time": "2019-04-01T02:58:58.119938Z"
    }
   },
   "outputs": [
    {
     "data": {
      "text/plain": [
       "tensor([[[ 0.1644,  0.3542, -0.1009, -0.0151,  0.0085]],\n",
       "\n",
       "        [[ 0.0449,  0.1545,  0.0588, -0.0538,  0.2280]]],\n",
       "       grad_fn=<SqueezeBackward1>)"
      ]
     },
     "execution_count": 73,
     "metadata": {},
     "output_type": "execute_result"
    }
   ],
   "source": [
    "test_output = test_conv(test_input)\n",
    "test_output"
   ]
  },
  {
   "cell_type": "code",
   "execution_count": 74,
   "metadata": {
    "ExecuteTime": {
     "end_time": "2019-04-01T02:58:59.344867Z",
     "start_time": "2019-04-01T02:58:59.342045Z"
    }
   },
   "outputs": [
    {
     "data": {
      "text/plain": [
       "tensor([[[-0.1009]],\n",
       "\n",
       "        [[ 0.0588]]], grad_fn=<ViewBackward>)"
      ]
     },
     "execution_count": 74,
     "metadata": {},
     "output_type": "execute_result"
    }
   ],
   "source": [
    "test_output[:, :, 2].view(batch, out_channels, 1)"
   ]
  },
  {
   "cell_type": "markdown",
   "metadata": {},
   "source": [
    "# 可以更改conv的pad，不影响参数"
   ]
  },
  {
   "cell_type": "code",
   "execution_count": 75,
   "metadata": {
    "ExecuteTime": {
     "end_time": "2019-04-01T02:59:12.330428Z",
     "start_time": "2019-04-01T02:59:12.325721Z"
    }
   },
   "outputs": [
    {
     "name": "stdout",
     "output_type": "stream",
     "text": [
      "<class 'tuple'>\n",
      "(2,)\n",
      "(0,)\n"
     ]
    }
   ],
   "source": [
    "print(type(test_conv.padding))\n",
    "print(test_conv.padding)\n",
    "test_conv.padding = (0, )\n",
    "print(test_conv.padding)"
   ]
  },
  {
   "cell_type": "code",
   "execution_count": 76,
   "metadata": {
    "ExecuteTime": {
     "end_time": "2019-04-01T02:59:14.225696Z",
     "start_time": "2019-04-01T02:59:14.221799Z"
    }
   },
   "outputs": [
    {
     "name": "stdout",
     "output_type": "stream",
     "text": [
      "tensor([[[-0.1009]],\n",
      "\n",
      "        [[ 0.0588]]], grad_fn=<SqueezeBackward1>)\n",
      "torch.Size([2, 1, 1])\n"
     ]
    }
   ],
   "source": [
    "test_output = test_conv(test_input)\n",
    "print(test_output)\n",
    "print(test_output.size())"
   ]
  },
  {
   "cell_type": "code",
   "execution_count": 77,
   "metadata": {
    "ExecuteTime": {
     "end_time": "2019-04-01T02:59:15.616224Z",
     "start_time": "2019-04-01T02:59:15.613700Z"
    }
   },
   "outputs": [
    {
     "data": {
      "text/plain": [
       "tensor([[[1., 1., 1., 0., 0.]]])"
      ]
     },
     "execution_count": 77,
     "metadata": {},
     "output_type": "execute_result"
    }
   ],
   "source": [
    "test_conv.show_mask()"
   ]
  },
  {
   "cell_type": "code",
   "execution_count": 78,
   "metadata": {
    "ExecuteTime": {
     "end_time": "2019-04-01T02:59:15.818283Z",
     "start_time": "2019-04-01T02:59:15.815905Z"
    }
   },
   "outputs": [
    {
     "data": {
      "text/plain": [
       "tensor([[[-0.3953,  0.2628,  0.1811, -0.5356,  0.4858]]],\n",
       "       grad_fn=<MulBackward0>)"
      ]
     },
     "execution_count": 78,
     "metadata": {},
     "output_type": "execute_result"
    }
   ],
   "source": [
    "test_conv.show_kernel()"
   ]
  },
  {
   "cell_type": "code",
   "execution_count": 79,
   "metadata": {
    "ExecuteTime": {
     "end_time": "2019-04-01T02:59:16.050125Z",
     "start_time": "2019-04-01T02:59:16.036261Z"
    }
   },
   "outputs": [
    {
     "data": {
      "text/plain": [
       "tensor([[[-0.3953,  0.2628,  0.1811, -0.0000,  0.0000]]],\n",
       "       grad_fn=<MulBackward0>)"
      ]
     },
     "execution_count": 79,
     "metadata": {},
     "output_type": "execute_result"
    }
   ],
   "source": [
    "test_conv.show_masked_kernel()"
   ]
  },
  {
   "cell_type": "markdown",
   "metadata": {},
   "source": [
    "# 手动padding"
   ]
  },
  {
   "cell_type": "code",
   "execution_count": 98,
   "metadata": {
    "ExecuteTime": {
     "end_time": "2019-04-01T03:25:53.525978Z",
     "start_time": "2019-04-01T03:25:53.520499Z"
    }
   },
   "outputs": [
    {
     "data": {
      "text/plain": [
       "tensor([[0.3862, 0.2712, 0.9297, 0.3981, 0.9489],\n",
       "        [0.5575, 0.5722, 0.8449, 0.9282, 0.7581]])"
      ]
     },
     "execution_count": 98,
     "metadata": {},
     "output_type": "execute_result"
    }
   ],
   "source": [
    "tobepad = torch.rand(batch_size, length)\n",
    "tobepad"
   ]
  },
  {
   "cell_type": "code",
   "execution_count": 99,
   "metadata": {
    "ExecuteTime": {
     "end_time": "2019-04-01T03:25:53.873085Z",
     "start_time": "2019-04-01T03:25:53.868234Z"
    }
   },
   "outputs": [
    {
     "data": {
      "text/plain": [
       "tensor([[0., 0.],\n",
       "        [0., 0.]])"
      ]
     },
     "execution_count": 99,
     "metadata": {},
     "output_type": "execute_result"
    }
   ],
   "source": [
    "pad = torch.zeros(batch_size, padding)\n",
    "pad"
   ]
  },
  {
   "cell_type": "code",
   "execution_count": 100,
   "metadata": {
    "ExecuteTime": {
     "end_time": "2019-04-01T03:25:54.577060Z",
     "start_time": "2019-04-01T03:25:54.571351Z"
    }
   },
   "outputs": [
    {
     "data": {
      "text/plain": [
       "tensor([[0.0000, 0.0000, 0.3862, 0.2712, 0.9297, 0.3981, 0.9489, 0.0000, 0.0000],\n",
       "        [0.0000, 0.0000, 0.5575, 0.5722, 0.8449, 0.9282, 0.7581, 0.0000, 0.0000]])"
      ]
     },
     "execution_count": 100,
     "metadata": {},
     "output_type": "execute_result"
    }
   ],
   "source": [
    "padded = torch.cat([pad, tobepad, pad], dim=1)\n",
    "padded"
   ]
  },
  {
   "cell_type": "markdown",
   "metadata": {},
   "source": [
    "# 截取kernel_size window"
   ]
  },
  {
   "cell_type": "code",
   "execution_count": 101,
   "metadata": {
    "ExecuteTime": {
     "end_time": "2019-04-01T03:28:29.407075Z",
     "start_time": "2019-04-01T03:28:29.401200Z"
    }
   },
   "outputs": [
    {
     "name": "stdout",
     "output_type": "stream",
     "text": [
      "tensor([[0.0000, 0.0000, 0.3862, 0.2712, 0.9297],\n",
      "        [0.0000, 0.0000, 0.5575, 0.5722, 0.8449]])\n",
      "tensor([[0.0000, 0.3862, 0.2712, 0.9297, 0.3981],\n",
      "        [0.0000, 0.5575, 0.5722, 0.8449, 0.9282]])\n",
      "tensor([[0.3862, 0.2712, 0.9297, 0.3981, 0.9489],\n",
      "        [0.5575, 0.5722, 0.8449, 0.9282, 0.7581]])\n",
      "tensor([[0.2712, 0.9297, 0.3981, 0.9489, 0.0000],\n",
      "        [0.5722, 0.8449, 0.9282, 0.7581, 0.0000]])\n",
      "tensor([[0.9297, 0.3981, 0.9489, 0.0000, 0.0000],\n",
      "        [0.8449, 0.9282, 0.7581, 0.0000, 0.0000]])\n"
     ]
    }
   ],
   "source": [
    "for i in range(length):\n",
    "    print(padded[:, i:i + kernel_size])"
   ]
  },
  {
   "cell_type": "markdown",
   "metadata": {},
   "source": [
    "# 对输入遮罩"
   ]
  },
  {
   "cell_type": "code",
   "execution_count": 4,
   "metadata": {
    "ExecuteTime": {
     "end_time": "2019-04-02T08:05:37.967353Z",
     "start_time": "2019-04-02T08:05:37.965551Z"
    }
   },
   "outputs": [],
   "source": [
    "BATCH_SIZE = 2\n",
    "TGT_LENGTH = 10"
   ]
  },
  {
   "cell_type": "code",
   "execution_count": 13,
   "metadata": {
    "ExecuteTime": {
     "end_time": "2019-04-02T08:07:28.679022Z",
     "start_time": "2019-04-02T08:07:28.675940Z"
    }
   },
   "outputs": [],
   "source": [
    "def create_mask_tensor():\n",
    "    mask_tensor = torch.ones(0)\n",
    "    batch_size = BATCH_SIZE\n",
    "    len_sentence = TGT_LENGTH\n",
    "    mask = torch.ones(len_sentence)\n",
    "    for _ in range(batch_size):\n",
    "        for i in range(1, len_sentence + 1):\n",
    "            masked = mask.clone()\n",
    "            masked[i:] = 0\n",
    "            mask_tensor = torch.cat((mask_tensor, masked))\n",
    "    mask_tensor = mask_tensor.contiguous().view(batch_size, len_sentence, -1)\n",
    "    return mask_tensor.float()"
   ]
  },
  {
   "cell_type": "code",
   "execution_count": 14,
   "metadata": {
    "ExecuteTime": {
     "end_time": "2019-04-02T08:07:29.050295Z",
     "start_time": "2019-04-02T08:07:29.038366Z"
    }
   },
   "outputs": [
    {
     "data": {
      "text/plain": [
       "tensor([[[1., 0., 0., 0., 0., 0., 0., 0., 0., 0.],\n",
       "         [1., 1., 0., 0., 0., 0., 0., 0., 0., 0.],\n",
       "         [1., 1., 1., 0., 0., 0., 0., 0., 0., 0.],\n",
       "         [1., 1., 1., 1., 0., 0., 0., 0., 0., 0.],\n",
       "         [1., 1., 1., 1., 1., 0., 0., 0., 0., 0.],\n",
       "         [1., 1., 1., 1., 1., 1., 0., 0., 0., 0.],\n",
       "         [1., 1., 1., 1., 1., 1., 1., 0., 0., 0.],\n",
       "         [1., 1., 1., 1., 1., 1., 1., 1., 0., 0.],\n",
       "         [1., 1., 1., 1., 1., 1., 1., 1., 1., 0.],\n",
       "         [1., 1., 1., 1., 1., 1., 1., 1., 1., 1.]],\n",
       "\n",
       "        [[1., 0., 0., 0., 0., 0., 0., 0., 0., 0.],\n",
       "         [1., 1., 0., 0., 0., 0., 0., 0., 0., 0.],\n",
       "         [1., 1., 1., 0., 0., 0., 0., 0., 0., 0.],\n",
       "         [1., 1., 1., 1., 0., 0., 0., 0., 0., 0.],\n",
       "         [1., 1., 1., 1., 1., 0., 0., 0., 0., 0.],\n",
       "         [1., 1., 1., 1., 1., 1., 0., 0., 0., 0.],\n",
       "         [1., 1., 1., 1., 1., 1., 1., 0., 0., 0.],\n",
       "         [1., 1., 1., 1., 1., 1., 1., 1., 0., 0.],\n",
       "         [1., 1., 1., 1., 1., 1., 1., 1., 1., 0.],\n",
       "         [1., 1., 1., 1., 1., 1., 1., 1., 1., 1.]]])"
      ]
     },
     "execution_count": 14,
     "metadata": {},
     "output_type": "execute_result"
    }
   ],
   "source": [
    "tensor = create_mask_tensor()\n",
    "tensor"
   ]
  },
  {
   "cell_type": "code",
   "execution_count": 15,
   "metadata": {
    "ExecuteTime": {
     "end_time": "2019-04-02T08:07:30.291827Z",
     "start_time": "2019-04-02T08:07:30.289005Z"
    }
   },
   "outputs": [
    {
     "data": {
      "text/plain": [
       "tensor([[0.8405, 0.5304, 0.2681, 0.9319, 0.2750, 0.5874, 0.1204, 0.6949, 0.5254,\n",
       "         0.1678],\n",
       "        [0.6121, 0.8481, 0.3573, 0.6426, 0.7382, 0.0970, 0.2095, 0.7629, 0.5735,\n",
       "         0.7271]])"
      ]
     },
     "execution_count": 15,
     "metadata": {},
     "output_type": "execute_result"
    }
   ],
   "source": [
    "decoder_input = torch.rand(BATCH_SIZE, TGT_LENGTH)\n",
    "decoder_input"
   ]
  },
  {
   "cell_type": "code",
   "execution_count": 17,
   "metadata": {
    "ExecuteTime": {
     "end_time": "2019-04-02T08:08:02.777273Z",
     "start_time": "2019-04-02T08:08:02.772463Z"
    }
   },
   "outputs": [
    {
     "name": "stdout",
     "output_type": "stream",
     "text": [
      "tensor([[0.8405, 0.0000, 0.0000, 0.0000, 0.0000, 0.0000, 0.0000, 0.0000, 0.0000,\n",
      "         0.0000],\n",
      "        [0.6121, 0.0000, 0.0000, 0.0000, 0.0000, 0.0000, 0.0000, 0.0000, 0.0000,\n",
      "         0.0000]])\n",
      "tensor([[0.8405, 0.5304, 0.0000, 0.0000, 0.0000, 0.0000, 0.0000, 0.0000, 0.0000,\n",
      "         0.0000],\n",
      "        [0.6121, 0.8481, 0.0000, 0.0000, 0.0000, 0.0000, 0.0000, 0.0000, 0.0000,\n",
      "         0.0000]])\n",
      "tensor([[0.8405, 0.5304, 0.2681, 0.0000, 0.0000, 0.0000, 0.0000, 0.0000, 0.0000,\n",
      "         0.0000],\n",
      "        [0.6121, 0.8481, 0.3573, 0.0000, 0.0000, 0.0000, 0.0000, 0.0000, 0.0000,\n",
      "         0.0000]])\n",
      "tensor([[0.8405, 0.5304, 0.2681, 0.9319, 0.0000, 0.0000, 0.0000, 0.0000, 0.0000,\n",
      "         0.0000],\n",
      "        [0.6121, 0.8481, 0.3573, 0.6426, 0.0000, 0.0000, 0.0000, 0.0000, 0.0000,\n",
      "         0.0000]])\n",
      "tensor([[0.8405, 0.5304, 0.2681, 0.9319, 0.2750, 0.0000, 0.0000, 0.0000, 0.0000,\n",
      "         0.0000],\n",
      "        [0.6121, 0.8481, 0.3573, 0.6426, 0.7382, 0.0000, 0.0000, 0.0000, 0.0000,\n",
      "         0.0000]])\n",
      "tensor([[0.8405, 0.5304, 0.2681, 0.9319, 0.2750, 0.5874, 0.0000, 0.0000, 0.0000,\n",
      "         0.0000],\n",
      "        [0.6121, 0.8481, 0.3573, 0.6426, 0.7382, 0.0970, 0.0000, 0.0000, 0.0000,\n",
      "         0.0000]])\n",
      "tensor([[0.8405, 0.5304, 0.2681, 0.9319, 0.2750, 0.5874, 0.1204, 0.0000, 0.0000,\n",
      "         0.0000],\n",
      "        [0.6121, 0.8481, 0.3573, 0.6426, 0.7382, 0.0970, 0.2095, 0.0000, 0.0000,\n",
      "         0.0000]])\n",
      "tensor([[0.8405, 0.5304, 0.2681, 0.9319, 0.2750, 0.5874, 0.1204, 0.6949, 0.0000,\n",
      "         0.0000],\n",
      "        [0.6121, 0.8481, 0.3573, 0.6426, 0.7382, 0.0970, 0.2095, 0.7629, 0.0000,\n",
      "         0.0000]])\n",
      "tensor([[0.8405, 0.5304, 0.2681, 0.9319, 0.2750, 0.5874, 0.1204, 0.6949, 0.5254,\n",
      "         0.0000],\n",
      "        [0.6121, 0.8481, 0.3573, 0.6426, 0.7382, 0.0970, 0.2095, 0.7629, 0.5735,\n",
      "         0.0000]])\n",
      "tensor([[0.8405, 0.5304, 0.2681, 0.9319, 0.2750, 0.5874, 0.1204, 0.6949, 0.5254,\n",
      "         0.1678],\n",
      "        [0.6121, 0.8481, 0.3573, 0.6426, 0.7382, 0.0970, 0.2095, 0.7629, 0.5735,\n",
      "         0.7271]])\n"
     ]
    }
   ],
   "source": [
    "for i in range(TGT_LENGTH):\n",
    "    print(torch.mul(decoder_input, tensor[:, i, :]))"
   ]
  },
  {
   "cell_type": "markdown",
   "metadata": {},
   "source": [
    "# 制造decoder input"
   ]
  },
  {
   "cell_type": "code",
   "execution_count": 22,
   "metadata": {
    "ExecuteTime": {
     "end_time": "2019-04-02T08:26:55.782815Z",
     "start_time": "2019-04-02T08:26:55.778556Z"
    }
   },
   "outputs": [
    {
     "data": {
      "text/plain": [
       "tensor([[0., 0., 0., 0., 0., 0., 0., 0., 0., 0.],\n",
       "        [0., 0., 0., 0., 0., 0., 0., 0., 0., 0.]])"
      ]
     },
     "execution_count": 22,
     "metadata": {},
     "output_type": "execute_result"
    }
   ],
   "source": [
    "decoder_input = torch.zeros(BATCH_SIZE, TGT_LENGTH)\n",
    "decoder_input"
   ]
  },
  {
   "cell_type": "code",
   "execution_count": 26,
   "metadata": {
    "ExecuteTime": {
     "end_time": "2019-04-02T08:28:38.879712Z",
     "start_time": "2019-04-02T08:28:38.873628Z"
    }
   },
   "outputs": [
    {
     "data": {
      "text/plain": [
       "tensor([[3.],\n",
       "        [3.]])"
      ]
     },
     "execution_count": 26,
     "metadata": {},
     "output_type": "execute_result"
    }
   ],
   "source": [
    "STR_tensor = torch.Tensor([3 for _ in range(BATCH_SIZE)]).view(BATCH_SIZE, -1)\n",
    "STR_tensor"
   ]
  },
  {
   "cell_type": "code",
   "execution_count": 27,
   "metadata": {
    "ExecuteTime": {
     "end_time": "2019-04-02T08:28:59.044249Z",
     "start_time": "2019-04-02T08:28:59.041547Z"
    }
   },
   "outputs": [
    {
     "data": {
      "text/plain": [
       "tensor([[3., 0., 0., 0., 0., 0., 0., 0., 0., 0.],\n",
       "        [3., 0., 0., 0., 0., 0., 0., 0., 0., 0.]])"
      ]
     },
     "execution_count": 27,
     "metadata": {},
     "output_type": "execute_result"
    }
   ],
   "source": [
    "decoder_input[:, 0:1] = STR_tensor\n",
    "decoder_input"
   ]
  },
  {
   "cell_type": "code",
   "execution_count": 14,
   "metadata": {
    "ExecuteTime": {
     "end_time": "2019-04-03T03:55:03.226967Z",
     "start_time": "2019-04-03T03:55:03.223822Z"
    }
   },
   "outputs": [
    {
     "data": {
      "text/plain": [
       "array([[1., 1., 1., 1.],\n",
       "       [1., 1., 1., 1.],\n",
       "       [1., 5., 1., 1.],\n",
       "       [1., 1., 1., 1.],\n",
       "       [1., 1., 1., 1.]])"
      ]
     },
     "execution_count": 14,
     "metadata": {},
     "output_type": "execute_result"
    }
   ],
   "source": [
    "a = np.ones((5, 4))\n",
    "b = np.ones((5, 4))\n",
    "a[2][1] = 5\n",
    "a"
   ]
  },
  {
   "cell_type": "code",
   "execution_count": 15,
   "metadata": {
    "ExecuteTime": {
     "end_time": "2019-04-03T03:55:03.527528Z",
     "start_time": "2019-04-03T03:55:03.524695Z"
    }
   },
   "outputs": [
    {
     "data": {
      "text/plain": [
       "array([[1., 1., 1., 1.],\n",
       "       [1., 1., 1., 1.],\n",
       "       [1., 1., 1., 1.],\n",
       "       [1., 1., 1., 1.],\n",
       "       [1., 1., 1., 1.]])"
      ]
     },
     "execution_count": 15,
     "metadata": {},
     "output_type": "execute_result"
    }
   ],
   "source": [
    "b"
   ]
  },
  {
   "cell_type": "code",
   "execution_count": 16,
   "metadata": {
    "ExecuteTime": {
     "end_time": "2019-04-03T03:55:07.722328Z",
     "start_time": "2019-04-03T03:55:07.719686Z"
    }
   },
   "outputs": [
    {
     "data": {
      "text/plain": [
       "array([[0., 0., 0., 0.],\n",
       "       [0., 0., 0., 0.],\n",
       "       [0., 4., 0., 0.],\n",
       "       [0., 0., 0., 0.],\n",
       "       [0., 0., 0., 0.]])"
      ]
     },
     "execution_count": 16,
     "metadata": {},
     "output_type": "execute_result"
    }
   ],
   "source": [
    "a - b"
   ]
  },
  {
   "cell_type": "code",
   "execution_count": 18,
   "metadata": {
    "ExecuteTime": {
     "end_time": "2019-04-03T03:55:14.586208Z",
     "start_time": "2019-04-03T03:55:14.583665Z"
    }
   },
   "outputs": [
    {
     "data": {
      "text/plain": [
       "19"
      ]
     },
     "execution_count": 18,
     "metadata": {},
     "output_type": "execute_result"
    }
   ],
   "source": [
    "np.sum(a - b == 0)"
   ]
  },
  {
   "cell_type": "markdown",
   "metadata": {},
   "source": [
    "# 测试位置向量"
   ]
  },
  {
   "cell_type": "code",
   "execution_count": 6,
   "metadata": {
    "ExecuteTime": {
     "end_time": "2019-04-13T07:20:16.739901Z",
     "start_time": "2019-04-13T07:20:16.702533Z"
    }
   },
   "outputs": [
    {
     "data": {
      "text/plain": [
       "tensor([[0.5443, 0.9662, 0.9008, 0.9928, 0.3107, 0.8706, 0.5317, 0.4988, 0.0920,\n",
       "         0.4401],\n",
       "        [0.2166, 0.3920, 0.0272, 0.6028, 0.3210, 0.0517, 0.8247, 0.7107, 0.3425,\n",
       "         0.9767],\n",
       "        [0.0037, 0.0592, 0.8570, 0.0563, 0.1343, 0.8355, 0.3407, 0.5985, 0.7746,\n",
       "         0.1776],\n",
       "        [0.7340, 0.7665, 0.1606, 0.2732, 0.8007, 0.5539, 0.0534, 0.3662, 0.2628,\n",
       "         0.3285],\n",
       "        [0.4755, 0.7042, 0.6575, 0.5365, 0.3329, 0.6098, 0.6248, 0.5152, 0.8622,\n",
       "         0.7497]])"
      ]
     },
     "execution_count": 6,
     "metadata": {},
     "output_type": "execute_result"
    }
   ],
   "source": [
    "batch_size = 5\n",
    "src_len = 10\n",
    "\n",
    "src = torch.rand([batch_size, src_len])\n",
    "src"
   ]
  },
  {
   "cell_type": "code",
   "execution_count": 8,
   "metadata": {
    "ExecuteTime": {
     "end_time": "2019-04-13T07:20:27.939827Z",
     "start_time": "2019-04-13T07:20:27.928349Z"
    }
   },
   "outputs": [
    {
     "data": {
      "text/plain": [
       "tensor([[0, 1, 2, 3, 4, 5, 6, 7, 8, 9],\n",
       "        [0, 1, 2, 3, 4, 5, 6, 7, 8, 9],\n",
       "        [0, 1, 2, 3, 4, 5, 6, 7, 8, 9],\n",
       "        [0, 1, 2, 3, 4, 5, 6, 7, 8, 9],\n",
       "        [0, 1, 2, 3, 4, 5, 6, 7, 8, 9]])"
      ]
     },
     "execution_count": 8,
     "metadata": {},
     "output_type": "execute_result"
    }
   ],
   "source": [
    "pos = torch.arange(0, src.shape[1]).unsqueeze(0).repeat(src.shape[0], 1)\n",
    "pos"
   ]
  },
  {
   "cell_type": "markdown",
   "metadata": {},
   "source": [
    "# Teacher Forcing Mask Matrix|"
   ]
  },
  {
   "cell_type": "code",
   "execution_count": 2,
   "metadata": {
    "ExecuteTime": {
     "end_time": "2019-04-15T02:51:50.921283Z",
     "start_time": "2019-04-15T02:51:50.919446Z"
    }
   },
   "outputs": [],
   "source": [
    "ratio = 0.7"
   ]
  },
  {
   "cell_type": "code",
   "execution_count": 3,
   "metadata": {
    "ExecuteTime": {
     "end_time": "2019-04-15T02:51:51.016074Z",
     "start_time": "2019-04-15T02:51:51.009731Z"
    }
   },
   "outputs": [
    {
     "data": {
      "text/plain": [
       "tensor([[1, 0, 1, 1, 1, 0, 0],\n",
       "        [1, 1, 1, 0, 1, 1, 0],\n",
       "        [1, 1, 1, 1, 1, 1, 0]])"
      ]
     },
     "execution_count": 3,
     "metadata": {},
     "output_type": "execute_result"
    }
   ],
   "source": [
    "m = torch.tensor(\n",
    "    [1 if np.random.uniform() < ratio else 0 for _ in range(3 * 7)]).view(\n",
    "        3, 7)\n",
    "\n",
    "m"
   ]
  },
  {
   "cell_type": "code",
   "execution_count": 4,
   "metadata": {
    "ExecuteTime": {
     "end_time": "2019-04-15T02:51:51.302961Z",
     "start_time": "2019-04-15T02:51:51.280872Z"
    }
   },
   "outputs": [
    {
     "data": {
      "text/plain": [
       "tensor([[0, 1, 0, 0, 0, 1, 1],\n",
       "        [0, 0, 0, 1, 0, 0, 1],\n",
       "        [0, 0, 0, 0, 0, 0, 1]])"
      ]
     },
     "execution_count": 4,
     "metadata": {},
     "output_type": "execute_result"
    }
   ],
   "source": [
    "1 - m"
   ]
  },
  {
   "cell_type": "code",
   "execution_count": 5,
   "metadata": {
    "ExecuteTime": {
     "end_time": "2019-04-15T02:51:55.270181Z",
     "start_time": "2019-04-15T02:51:55.267431Z"
    }
   },
   "outputs": [
    {
     "data": {
      "text/plain": [
       "tensor([1, 0, 1, 1, 1, 0, 0, 1, 1, 1, 0, 1, 1, 0, 1, 1, 1, 1, 1, 1, 0])"
      ]
     },
     "execution_count": 5,
     "metadata": {},
     "output_type": "execute_result"
    }
   ],
   "source": [
    "m.view(-1)"
   ]
  },
  {
   "cell_type": "markdown",
   "metadata": {},
   "source": [
    "# CosineLoss"
   ]
  },
  {
   "cell_type": "code",
   "execution_count": 55,
   "metadata": {
    "ExecuteTime": {
     "end_time": "2019-04-15T11:41:05.123177Z",
     "start_time": "2019-04-15T11:41:05.119260Z"
    }
   },
   "outputs": [],
   "source": [
    "# loss = torch.nn.CosineEmbeddingLoss()\n",
    "loss = torch.nn.L1Loss()"
   ]
  },
  {
   "cell_type": "code",
   "execution_count": 56,
   "metadata": {
    "ExecuteTime": {
     "end_time": "2019-04-15T11:41:05.345483Z",
     "start_time": "2019-04-15T11:41:05.340605Z"
    }
   },
   "outputs": [],
   "source": [
    "s1 = torch.rand(2, 3, 4)\n",
    "s2 = torch.rand(2, 3, 4)"
   ]
  },
  {
   "cell_type": "code",
   "execution_count": 57,
   "metadata": {
    "ExecuteTime": {
     "end_time": "2019-04-15T11:41:05.553962Z",
     "start_time": "2019-04-15T11:41:05.545382Z"
    }
   },
   "outputs": [
    {
     "data": {
      "text/plain": [
       "tensor([[[0.2294, 0.6706, 0.8194, 0.5345],\n",
       "         [0.5669, 0.7164, 0.2822, 0.1149],\n",
       "         [0.0691, 0.6952, 0.3044, 0.2712]],\n",
       "\n",
       "        [[0.4037, 0.9817, 0.1375, 0.1767],\n",
       "         [0.0410, 0.2716, 0.2668, 0.9205],\n",
       "         [0.5496, 0.6949, 0.2812, 0.7154]]])"
      ]
     },
     "execution_count": 57,
     "metadata": {},
     "output_type": "execute_result"
    }
   ],
   "source": [
    "s1"
   ]
  },
  {
   "cell_type": "code",
   "execution_count": 61,
   "metadata": {
    "ExecuteTime": {
     "end_time": "2019-04-15T11:41:14.326341Z",
     "start_time": "2019-04-15T11:41:14.323347Z"
    }
   },
   "outputs": [
    {
     "data": {
      "text/plain": [
       "tensor([[[0.3198, 0.9845, 0.6231, 0.6462],\n",
       "         [0.3368, 0.2201, 0.3435, 0.7971],\n",
       "         [0.4068, 0.4498, 0.8892, 0.2248]],\n",
       "\n",
       "        [[0.9630, 0.3430, 0.6652, 0.8348],\n",
       "         [0.9958, 0.6658, 0.6889, 0.6883],\n",
       "         [0.2694, 0.8085, 0.7882, 0.4452]]])"
      ]
     },
     "execution_count": 61,
     "metadata": {},
     "output_type": "execute_result"
    }
   ],
   "source": [
    "s2 = torch.rand(2, 3, 4)\n",
    "# s2[1,:,:] = s1[1,:,:]\n",
    "s2"
   ]
  },
  {
   "cell_type": "code",
   "execution_count": 62,
   "metadata": {
    "ExecuteTime": {
     "end_time": "2019-04-15T11:41:14.973808Z",
     "start_time": "2019-04-15T11:41:14.969533Z"
    }
   },
   "outputs": [],
   "source": [
    "target = torch.tensor([1.0])"
   ]
  },
  {
   "cell_type": "code",
   "execution_count": 63,
   "metadata": {
    "ExecuteTime": {
     "end_time": "2019-04-15T11:41:15.252130Z",
     "start_time": "2019-04-15T11:41:15.243121Z"
    }
   },
   "outputs": [
    {
     "name": "stdout",
     "output_type": "stream",
     "text": [
      "tensor(0.3731)\n"
     ]
    }
   ],
   "source": [
    "print(loss(s1, s2))"
   ]
  },
  {
   "cell_type": "markdown",
   "metadata": {},
   "source": [
    "# 测试交叉熵损失"
   ]
  },
  {
   "cell_type": "code",
   "execution_count": 2,
   "metadata": {
    "ExecuteTime": {
     "end_time": "2019-04-16T01:09:56.779455Z",
     "start_time": "2019-04-16T01:09:56.774749Z"
    }
   },
   "outputs": [],
   "source": [
    "loss = torch.nn.CrossEntropyLoss(ignore_index=0)"
   ]
  },
  {
   "cell_type": "code",
   "execution_count": 3,
   "metadata": {
    "ExecuteTime": {
     "end_time": "2019-04-16T01:10:12.755362Z",
     "start_time": "2019-04-16T01:10:12.727174Z"
    }
   },
   "outputs": [
    {
     "data": {
      "text/plain": [
       "tensor([[0.5272, 0.4321, 0.0036, 0.3344],\n",
       "        [0.3667, 0.1570, 0.0063, 0.4954],\n",
       "        [0.4731, 0.7873, 0.2552, 0.4707]])"
      ]
     },
     "execution_count": 3,
     "metadata": {},
     "output_type": "execute_result"
    }
   ],
   "source": [
    "score = torch.rand(3, 4)\n",
    "score"
   ]
  },
  {
   "cell_type": "code",
   "execution_count": 8,
   "metadata": {
    "ExecuteTime": {
     "end_time": "2019-04-16T01:12:04.171008Z",
     "start_time": "2019-04-16T01:12:04.166533Z"
    }
   },
   "outputs": [
    {
     "data": {
      "text/plain": [
       "tensor([0, 1, 2])"
      ]
     },
     "execution_count": 8,
     "metadata": {},
     "output_type": "execute_result"
    }
   ],
   "source": [
    "target = torch.tensor([0, 1, 2])\n",
    "target"
   ]
  },
  {
   "cell_type": "code",
   "execution_count": 9,
   "metadata": {
    "ExecuteTime": {
     "end_time": "2019-04-16T01:12:04.891447Z",
     "start_time": "2019-04-16T01:12:04.889039Z"
    }
   },
   "outputs": [
    {
     "name": "stdout",
     "output_type": "stream",
     "text": [
      "tensor(1.5746)\n"
     ]
    }
   ],
   "source": [
    "print(loss(score, target))"
   ]
  },
  {
   "cell_type": "code",
   "execution_count": 10,
   "metadata": {
    "ExecuteTime": {
     "end_time": "2019-04-16T01:16:19.724292Z",
     "start_time": "2019-04-16T01:16:19.719375Z"
    }
   },
   "outputs": [
    {
     "name": "stdout",
     "output_type": "stream",
     "text": [
      "tensor([[0.3006, 0.2734, 0.1781, 0.2479],\n",
      "        [0.2743, 0.2224, 0.1913, 0.3120],\n",
      "        [0.2398, 0.3283, 0.1928, 0.2392]])\n"
     ]
    }
   ],
   "source": [
    "print(F.softmax(score, dim=1))"
   ]
  },
  {
   "cell_type": "markdown",
   "metadata": {},
   "source": [
    "# 测试单词重复度"
   ]
  },
  {
   "cell_type": "code",
   "execution_count": 13,
   "metadata": {
    "ExecuteTime": {
     "end_time": "2019-04-16T08:33:51.988230Z",
     "start_time": "2019-04-16T08:33:51.985001Z"
    }
   },
   "outputs": [
    {
     "data": {
      "text/plain": [
       "tensor([1, 4, 2, 6, 5, 1, 7, 9])"
      ]
     },
     "execution_count": 13,
     "metadata": {},
     "output_type": "execute_result"
    }
   ],
   "source": [
    "train_predicted = torch.tensor([1, 4, 2, 6, 5, 1, 7, 9])\n",
    "train_predicted"
   ]
  },
  {
   "cell_type": "code",
   "execution_count": 14,
   "metadata": {
    "ExecuteTime": {
     "end_time": "2019-04-16T08:33:52.243806Z",
     "start_time": "2019-04-16T08:33:52.238040Z"
    }
   },
   "outputs": [
    {
     "data": {
      "text/plain": [
       "tensor([   5,   99,  124, 5123,    7, 5123, 5123,    6])"
      ]
     },
     "execution_count": 14,
     "metadata": {},
     "output_type": "execute_result"
    }
   ],
   "source": [
    "target = torch.tensor([5, 99, 124, 5123, 7, 5123, 5123, 6])\n",
    "target"
   ]
  },
  {
   "cell_type": "code",
   "execution_count": 15,
   "metadata": {
    "ExecuteTime": {
     "end_time": "2019-04-16T08:33:52.498626Z",
     "start_time": "2019-04-16T08:33:52.492386Z"
    }
   },
   "outputs": [
    {
     "data": {
      "text/plain": [
       "array([   5,   99,  124, 5123,    7, 5123, 5123,    6])"
      ]
     },
     "execution_count": 15,
     "metadata": {},
     "output_type": "execute_result"
    }
   ],
   "source": [
    "target = target.numpy()\n",
    "target"
   ]
  },
  {
   "cell_type": "code",
   "execution_count": 16,
   "metadata": {
    "ExecuteTime": {
     "end_time": "2019-04-16T08:33:52.743889Z",
     "start_time": "2019-04-16T08:33:52.737916Z"
    }
   },
   "outputs": [
    {
     "data": {
      "text/plain": [
       "{5, 6, 7, 99, 124, 5123}"
      ]
     },
     "execution_count": 16,
     "metadata": {},
     "output_type": "execute_result"
    }
   ],
   "source": [
    "target_set = set(target)\n",
    "target_set"
   ]
  },
  {
   "cell_type": "code",
   "execution_count": 17,
   "metadata": {
    "ExecuteTime": {
     "end_time": "2019-04-16T08:33:53.041712Z",
     "start_time": "2019-04-16T08:33:53.037189Z"
    }
   },
   "outputs": [
    {
     "name": "stdout",
     "output_type": "stream",
     "text": [
      "6\n",
      "5\n",
      "7\n"
     ]
    }
   ],
   "source": [
    "for item in train_predicted.numpy():\n",
    "    if item in target_set:\n",
    "        print(item)"
   ]
  },
  {
   "cell_type": "code",
   "execution_count": 1,
   "metadata": {
    "ExecuteTime": {
     "end_time": "2019-04-16T15:30:22.248286Z",
     "start_time": "2019-04-16T15:30:22.214413Z"
    }
   },
   "outputs": [],
   "source": [
    "import numpy as np"
   ]
  },
  {
   "cell_type": "code",
   "execution_count": 8,
   "metadata": {
    "ExecuteTime": {
     "end_time": "2019-04-16T15:32:25.134310Z",
     "start_time": "2019-04-16T15:32:25.123756Z"
    }
   },
   "outputs": [
    {
     "data": {
      "text/plain": [
       "array([[0.17944709, 0.72023635, 0.8314441 , 0.79787177, 0.07537743],\n",
       "       [0.51861272, 0.0243257 , 0.20140041, 0.09965711, 0.44205034],\n",
       "       [0.25953284, 0.54369564, 0.31343503, 0.51842928, 0.47573975]])"
      ]
     },
     "execution_count": 8,
     "metadata": {},
     "output_type": "execute_result"
    }
   ],
   "source": [
    "a = np.random.rand(3, 5)\n",
    "a"
   ]
  },
  {
   "cell_type": "code",
   "execution_count": 9,
   "metadata": {
    "ExecuteTime": {
     "end_time": "2019-04-16T15:32:25.376114Z",
     "start_time": "2019-04-16T15:32:25.371312Z"
    }
   },
   "outputs": [
    {
     "data": {
      "text/plain": [
       "array([0.17944709, 0.72023635, 0.8314441 , 0.79787177, 0.07537743,\n",
       "       0.51861272, 0.0243257 , 0.20140041, 0.09965711, 0.44205034,\n",
       "       0.25953284, 0.54369564, 0.31343503, 0.51842928, 0.47573975])"
      ]
     },
     "execution_count": 9,
     "metadata": {},
     "output_type": "execute_result"
    }
   ],
   "source": [
    "b = a.reshape(-1)\n",
    "b"
   ]
  },
  {
   "cell_type": "markdown",
   "metadata": {},
   "source": [
    "# fairseq 创建mask\n",
    "- B:2\n",
    "- T:10\n",
    "- C:7"
   ]
  },
  {
   "cell_type": "code",
   "execution_count": 2,
   "metadata": {
    "ExecuteTime": {
     "end_time": "2019-04-22T09:48:48.833367Z",
     "start_time": "2019-04-22T09:48:48.824703Z"
    }
   },
   "outputs": [
    {
     "data": {
      "text/plain": [
       "tensor([[ 3,  4,  6,  2,  5,  9,  7,  1,  1,  1],\n",
       "        [ 5,  6,  9, 10,  3,  1,  1,  1,  1,  1]])"
      ]
     },
     "execution_count": 2,
     "metadata": {},
     "output_type": "execute_result"
    }
   ],
   "source": [
    "src_token = torch.tensor(\n",
    "    [3, 4, 6, 2, 5, 9, 7, 1, 1, 1, 5, 6, 9, 10, 3, 1, 1, 1, 1, 1]).view(2, -1)\n",
    "src_token"
   ]
  },
  {
   "cell_type": "code",
   "execution_count": 3,
   "metadata": {
    "ExecuteTime": {
     "end_time": "2019-04-22T09:48:49.646679Z",
     "start_time": "2019-04-22T09:48:49.644987Z"
    }
   },
   "outputs": [],
   "source": [
    "padding_idx = 1"
   ]
  },
  {
   "cell_type": "code",
   "execution_count": 4,
   "metadata": {
    "ExecuteTime": {
     "end_time": "2019-04-22T09:48:50.123095Z",
     "start_time": "2019-04-22T09:48:50.113111Z"
    }
   },
   "outputs": [
    {
     "data": {
      "text/plain": [
       "tensor([[0, 0, 0, 0, 0, 0, 0, 1, 1, 1],\n",
       "        [0, 0, 0, 0, 0, 1, 1, 1, 1, 1]], dtype=torch.uint8)"
      ]
     },
     "execution_count": 4,
     "metadata": {},
     "output_type": "execute_result"
    }
   ],
   "source": [
    "encoder_padding_mask = src_token.eq(padding_idx)\n",
    "encoder_padding_mask"
   ]
  },
  {
   "cell_type": "code",
   "execution_count": 5,
   "metadata": {
    "ExecuteTime": {
     "end_time": "2019-04-22T09:48:51.225015Z",
     "start_time": "2019-04-22T09:48:51.183274Z"
    }
   },
   "outputs": [
    {
     "data": {
      "text/plain": [
       "tensor([[[0.2879, 0.1935, 0.3467, 0.4936, 0.3641, 0.1455, 0.4909],\n",
       "         [0.8279, 0.6078, 0.7099, 0.3670, 0.9470, 0.9482, 0.4308],\n",
       "         [0.3648, 0.0888, 0.1055, 0.6115, 0.2782, 0.8372, 0.7488],\n",
       "         [0.2701, 0.5403, 0.5000, 0.8872, 0.0840, 0.7430, 0.9404],\n",
       "         [0.9012, 0.0188, 0.4205, 0.1322, 0.3403, 0.8259, 0.3328],\n",
       "         [0.9046, 0.3582, 0.1476, 0.5289, 0.6857, 0.4018, 0.6467],\n",
       "         [0.0641, 0.3216, 0.2822, 0.8222, 0.8938, 0.4686, 0.6488],\n",
       "         [0.7104, 0.1159, 0.7566, 0.6550, 0.7744, 0.6454, 0.9690],\n",
       "         [0.1321, 0.1088, 0.4873, 0.4441, 0.2302, 0.8483, 0.9391],\n",
       "         [0.2391, 0.9233, 0.3242, 0.6668, 0.4198, 0.8529, 0.2679]],\n",
       "\n",
       "        [[0.2376, 0.2255, 0.5122, 0.3859, 0.5032, 0.8713, 0.4064],\n",
       "         [0.1924, 0.1757, 0.8009, 0.5591, 0.0301, 0.5399, 0.0099],\n",
       "         [0.7599, 0.3510, 0.9313, 0.7132, 0.0521, 0.6284, 0.2873],\n",
       "         [0.8025, 0.2292, 0.1501, 0.3763, 0.3194, 0.1599, 0.1662],\n",
       "         [0.5125, 0.9145, 0.8805, 0.2962, 0.5876, 0.8989, 0.8746],\n",
       "         [0.3535, 0.0713, 0.5107, 0.2675, 0.0763, 0.1425, 0.1021],\n",
       "         [0.1289, 0.3274, 0.1424, 0.5731, 0.0171, 0.7136, 0.4791],\n",
       "         [0.8268, 0.7612, 0.3347, 0.8025, 0.5897, 0.1053, 0.8321],\n",
       "         [0.7304, 0.7726, 0.6799, 0.7919, 0.6268, 0.3450, 0.4638],\n",
       "         [0.6768, 0.5180, 0.1989, 0.9485, 0.8230, 0.6031, 0.9689]]])"
      ]
     },
     "execution_count": 5,
     "metadata": {},
     "output_type": "execute_result"
    }
   ],
   "source": [
    "x = torch.rand(2, 10, 7)\n",
    "x"
   ]
  },
  {
   "cell_type": "code",
   "execution_count": 6,
   "metadata": {
    "ExecuteTime": {
     "end_time": "2019-04-22T09:48:53.611169Z",
     "start_time": "2019-04-22T09:48:53.608314Z"
    }
   },
   "outputs": [
    {
     "data": {
      "text/plain": [
       "tensor([[[0],\n",
       "         [0],\n",
       "         [0],\n",
       "         [0],\n",
       "         [0],\n",
       "         [0],\n",
       "         [0],\n",
       "         [1],\n",
       "         [1],\n",
       "         [1]],\n",
       "\n",
       "        [[0],\n",
       "         [0],\n",
       "         [0],\n",
       "         [0],\n",
       "         [0],\n",
       "         [1],\n",
       "         [1],\n",
       "         [1],\n",
       "         [1],\n",
       "         [1]]], dtype=torch.uint8)"
      ]
     },
     "execution_count": 6,
     "metadata": {},
     "output_type": "execute_result"
    }
   ],
   "source": [
    "encoder_padding_mask.unsqueeze(-1)"
   ]
  },
  {
   "cell_type": "code",
   "execution_count": 7,
   "metadata": {
    "ExecuteTime": {
     "end_time": "2019-04-22T09:48:54.581295Z",
     "start_time": "2019-04-22T09:48:54.567482Z"
    }
   },
   "outputs": [
    {
     "data": {
      "text/plain": [
       "tensor([[[0.2879, 0.1935, 0.3467, 0.4936, 0.3641, 0.1455, 0.4909],\n",
       "         [0.8279, 0.6078, 0.7099, 0.3670, 0.9470, 0.9482, 0.4308],\n",
       "         [0.3648, 0.0888, 0.1055, 0.6115, 0.2782, 0.8372, 0.7488],\n",
       "         [0.2701, 0.5403, 0.5000, 0.8872, 0.0840, 0.7430, 0.9404],\n",
       "         [0.9012, 0.0188, 0.4205, 0.1322, 0.3403, 0.8259, 0.3328],\n",
       "         [0.9046, 0.3582, 0.1476, 0.5289, 0.6857, 0.4018, 0.6467],\n",
       "         [0.0641, 0.3216, 0.2822, 0.8222, 0.8938, 0.4686, 0.6488],\n",
       "         [0.0000, 0.0000, 0.0000, 0.0000, 0.0000, 0.0000, 0.0000],\n",
       "         [0.0000, 0.0000, 0.0000, 0.0000, 0.0000, 0.0000, 0.0000],\n",
       "         [0.0000, 0.0000, 0.0000, 0.0000, 0.0000, 0.0000, 0.0000]],\n",
       "\n",
       "        [[0.2376, 0.2255, 0.5122, 0.3859, 0.5032, 0.8713, 0.4064],\n",
       "         [0.1924, 0.1757, 0.8009, 0.5591, 0.0301, 0.5399, 0.0099],\n",
       "         [0.7599, 0.3510, 0.9313, 0.7132, 0.0521, 0.6284, 0.2873],\n",
       "         [0.8025, 0.2292, 0.1501, 0.3763, 0.3194, 0.1599, 0.1662],\n",
       "         [0.5125, 0.9145, 0.8805, 0.2962, 0.5876, 0.8989, 0.8746],\n",
       "         [0.0000, 0.0000, 0.0000, 0.0000, 0.0000, 0.0000, 0.0000],\n",
       "         [0.0000, 0.0000, 0.0000, 0.0000, 0.0000, 0.0000, 0.0000],\n",
       "         [0.0000, 0.0000, 0.0000, 0.0000, 0.0000, 0.0000, 0.0000],\n",
       "         [0.0000, 0.0000, 0.0000, 0.0000, 0.0000, 0.0000, 0.0000],\n",
       "         [0.0000, 0.0000, 0.0000, 0.0000, 0.0000, 0.0000, 0.0000]]])"
      ]
     },
     "execution_count": 7,
     "metadata": {},
     "output_type": "execute_result"
    }
   ],
   "source": [
    "print(x.size())\n",
    "print(encoder_padding_mask.size())\n",
    "x = x.masked_fill(encoder_padding_mask.unsqueeze(-1), 0)\n",
    "x"
   ]
  },
  {
   "cell_type": "markdown",
   "metadata": {},
   "source": [
    "# fairseq生成位置向量"
   ]
  },
  {
   "cell_type": "code",
   "execution_count": 5,
   "metadata": {
    "ExecuteTime": {
     "end_time": "2019-04-23T13:12:51.530281Z",
     "start_time": "2019-04-23T13:12:51.524151Z"
    }
   },
   "outputs": [
    {
     "data": {
      "text/plain": [
       "tensor([[ 3,  4,  6,  2,  5,  9,  7,  0,  0,  0],\n",
       "        [ 5,  6,  9, 10,  3,  0,  0,  0,  0,  0]])"
      ]
     },
     "execution_count": 5,
     "metadata": {},
     "output_type": "execute_result"
    }
   ],
   "source": [
    "src_token = torch.tensor(\n",
    "    [3, 4, 6, 2, 5, 9, 7, 0, 0, 0, 5, 6, 9, 10, 3, 0, 0, 0, 0, 0]).view(2, -1).long()\n",
    "src_token"
   ]
  },
  {
   "cell_type": "code",
   "execution_count": 6,
   "metadata": {
    "ExecuteTime": {
     "end_time": "2019-04-23T13:12:52.454058Z",
     "start_time": "2019-04-23T13:12:52.450584Z"
    }
   },
   "outputs": [
    {
     "data": {
      "text/plain": [
       "tensor([[1, 1, 1, 1, 1, 1, 1, 0, 0, 0],\n",
       "        [1, 1, 1, 1, 1, 0, 0, 0, 0, 0]])"
      ]
     },
     "execution_count": 6,
     "metadata": {},
     "output_type": "execute_result"
    }
   ],
   "source": [
    "mask = src_token.ne(0).long()\n",
    "mask"
   ]
  },
  {
   "cell_type": "code",
   "execution_count": 8,
   "metadata": {
    "ExecuteTime": {
     "end_time": "2019-04-23T13:13:25.354119Z",
     "start_time": "2019-04-23T13:13:25.344016Z"
    }
   },
   "outputs": [
    {
     "data": {
      "text/plain": [
       "tensor([[1, 2, 3, 4, 5, 6, 7, 0, 0, 0],\n",
       "        [1, 2, 3, 4, 5, 0, 0, 0, 0, 0]])"
      ]
     },
     "execution_count": 8,
     "metadata": {},
     "output_type": "execute_result"
    }
   ],
   "source": [
    "torch.cumsum(mask, dim=1) * mask + 0"
   ]
  },
  {
   "cell_type": "code",
   "execution_count": 2,
   "metadata": {
    "ExecuteTime": {
     "end_time": "2019-04-24T02:50:18.732546Z",
     "start_time": "2019-04-24T02:50:18.708092Z"
    }
   },
   "outputs": [
    {
     "data": {
      "text/plain": [
       "tensor([[0., 0., 0., 0., 0., 0., 0., 0., 0., 0.],\n",
       "        [0., 0., 0., 0., 0., 0., 0., 0., 0., 0.],\n",
       "        [0., 0., 0., 0., 0., 0., 0., 0., 0., 0.],\n",
       "        [0., 0., 0., 0., 0., 0., 0., 0., 0., 0.],\n",
       "        [0., 0., 0., 0., 0., 0., 0., 0., 0., 0.],\n",
       "        [0., 0., 0., 0., 0., 0., 0., 0., 0., 0.],\n",
       "        [0., 0., 0., 0., 0., 0., 0., 0., 0., 0.],\n",
       "        [0., 0., 0., 0., 0., 0., 0., 0., 0., 0.]])"
      ]
     },
     "execution_count": 2,
     "metadata": {},
     "output_type": "execute_result"
    }
   ],
   "source": [
    "B = 8\n",
    "Tg = 10\n",
    "decoder_input = torch.zeros(B,Tg)\n",
    "decoder_input"
   ]
  },
  {
   "cell_type": "code",
   "execution_count": 3,
   "metadata": {
    "ExecuteTime": {
     "end_time": "2019-04-24T02:50:32.510701Z",
     "start_time": "2019-04-24T02:50:32.476160Z"
    }
   },
   "outputs": [
    {
     "data": {
      "text/plain": [
       "tensor([[3., 0., 0., 0., 0., 0., 0., 0., 0., 0.],\n",
       "        [3., 0., 0., 0., 0., 0., 0., 0., 0., 0.],\n",
       "        [3., 0., 0., 0., 0., 0., 0., 0., 0., 0.],\n",
       "        [3., 0., 0., 0., 0., 0., 0., 0., 0., 0.],\n",
       "        [3., 0., 0., 0., 0., 0., 0., 0., 0., 0.],\n",
       "        [3., 0., 0., 0., 0., 0., 0., 0., 0., 0.],\n",
       "        [3., 0., 0., 0., 0., 0., 0., 0., 0., 0.],\n",
       "        [3., 0., 0., 0., 0., 0., 0., 0., 0., 0.]])"
      ]
     },
     "execution_count": 3,
     "metadata": {},
     "output_type": "execute_result"
    }
   ],
   "source": [
    "decoder_input[:,0] = 3\n",
    "decoder_input"
   ]
  },
  {
   "cell_type": "code",
   "execution_count": null,
   "metadata": {},
   "outputs": [],
   "source": []
  }
 ],
 "metadata": {
  "kernelspec": {
   "display_name": "Python 3",
   "language": "python",
   "name": "python3"
  },
  "language_info": {
   "codemirror_mode": {
    "name": "ipython",
    "version": 3
   },
   "file_extension": ".py",
   "mimetype": "text/x-python",
   "name": "python",
   "nbconvert_exporter": "python",
   "pygments_lexer": "ipython3",
   "version": "3.7.3"
  },
  "latex_envs": {
   "LaTeX_envs_menu_present": true,
   "autoclose": false,
   "autocomplete": true,
   "bibliofile": "biblio.bib",
   "cite_by": "apalike",
   "current_citInitial": 1,
   "eqLabelWithNumbers": true,
   "eqNumInitial": 1,
   "hotkeys": {
    "equation": "Ctrl-E",
    "itemize": "Ctrl-I"
   },
   "labels_anchors": false,
   "latex_user_defs": false,
   "report_style_numbering": false,
   "user_envs_cfg": false
  },
  "toc": {
   "base_numbering": 1,
   "nav_menu": {},
   "number_sections": true,
   "sideBar": true,
   "skip_h1_title": false,
   "title_cell": "Table of Contents",
   "title_sidebar": "Contents",
   "toc_cell": false,
   "toc_position": {},
   "toc_section_display": true,
   "toc_window_display": false
  }
 },
 "nbformat": 4,
 "nbformat_minor": 2
}
